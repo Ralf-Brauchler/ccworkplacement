{
 "cells": [
  {
   "cell_type": "markdown",
   "metadata": {},
   "source": [
    "# Programmablauf-Steuerung\n",
    "\n",
    "Wie wir im vorangehenden Kapitel gelernt haben, wird ein Programm zeilenweise von oben nach unten abgearbeitet. Nun gibt es Fälle, wo wir einen Programmblock nur unter einer Bedingung ausführen oder einige Anweisung mehrmals wiederholen wollen.\n",
    "\n",
    "Es ist oft notwendig, einen ganzen Programmblock für jedes Element einer Liste zu wiederholen. Dies ist eine Form der Iteration. Wir sprechen von einer _Iteration über den Elementen einer Liste_. In Python wird dies mit einer [`for`](https://docs.python.org/3.2/reference/compound_stmts.html#for) Schleife gemacht. Wir werden in diesem Zusammenhang auch lernen, wie in Python ein Programmblock gekennzeichnet wird.\n",
    "\n",
    "In anderen Fällen ist es notwendig, zu entscheiden, ob ein Programmblock ausgeführt werden soll oder nicht. Hier handelt es sich um eine Selektion. Dafür müssen wir zuerst lernen, wie in Python Bedingungen formuliert werden. Anschließend betrachten wir die [`if`](https://docs.python.org/3.2/reference/compound_stmts.html#if)-Verzweigung, welche uns das bedingte Ausführen eines Programmblocks ermöglicht.\n",
    "\n",
    "Teilweise reicht diese sehr spezielle Form der Wiederholung nicht. Es kann auch notwendig sein, einen Block zu wiederholen, bis eine Bedingung nicht mehr wahr ist. Dies nennen wir eine _bedingte Iteration_.\n",
    "\n",
    "## Die `for`-Schleife\n",
    "\n",
    "Wie schon erwähnt, ist die [`for`](https://docs.python.org/3.2/reference/compound_stmts.html#for)-Schleife ein Spezialfall der Iteration, nämlich eine Iteration über einer Liste. Man kann alle Probleme, welche mit [`for`](https://docs.python.org/3.2/reference/compound_stmts.html#for) gelöst werden können, auch mit der später besprochenen, allgemeineren [`while`](https://docs.python.org/3.2/reference/compound_stmts.html#while)-Schleife lösen. Das Iterieren über einer Liste ist aber eine so häufige Form der Iteration, dass [`for`](https://docs.python.org/3.2/reference/compound_stmts.html#for) häufiger vorkommt als [`while`](https://docs.python.org/3.2/reference/compound_stmts.html#while).\n",
    "\n",
    "Wir wollen ein erstes Beispiel einer solchen Schleife in Python betrachten:"
   ]
  },
  {
   "cell_type": "code",
   "execution_count": null,
   "metadata": {},
   "outputs": [],
   "source": [
    "for zahl in [4,5,7,11,21]:\n",
    "    summe = zahl + 2\n",
    "    print(\"Wenn ich zu\", zahl, \"zwei addiere, erhalte ich\", summe)\n",
    "print(\"Ich bin fertig!\")"
   ]
  },
  {
   "cell_type": "markdown",
   "metadata": {},
   "source": [
    "Hier nimmt die Variable `zahl` jeden Wert aus der Liste einmal an und durchläuft alle Anweisungen innerhalb der Iteration. Sobald Python beim letzten Element in der Liste angelangt ist, bricht die Schleife ab und es wird bei der ersten Anweisung nach der Schleife weitergemacht.\n",
    "\n",
    "In diesem Fall gehörten zwei Anweisungen zum Programmblock, welcher wiederholt wird, nämlich die Berechnung der Variable `summe` sowie die Ausgabe mit [`print()`](https://docs.python.org/3.2/library/functions.html#print). Diese Anweisung wurde nach innen gerückt, um Python mitzuteilen, dass sie zu der Schleife gehört.\n",
    "\n",
    "Wenn du hier im Jupyter Notebook den Doppelpunkt am Ende der Zeile nach der Liste nicht vergisst, rückt es die nächste Zeile automatisch ein. Andernfalls kannst du dies mit der <TAB>-Taste selbst machen. Achte darauf, dass wirklich alle Zeilen, welche zum gleichen Block gehören, gleich stark eingerückt sind. Schon nur ein Unterscheidung um ein Leerzeichen wird zu einer Fehlermeldung führen. Dies ist einer der Nachteile von Python. Andere Sprachen benutzen geschweifte Klammern `{` und `}` um zusammengehörende Blöcke zu kennzeichnen.\n",
    "    \n",
    "Möchte man nun zum Beispiel etwas für die Zahlen von 1 bis 100 ausführen, wird es mühsam, die Liste von Hand wie oben einzutippen. Dafür gibt es in Python den Befehl [`range()`](https://docs.python.org/3.2/library/functions.html#range). So enthält `range(100)` alle Zahlen von 0 bis 99 (also insgesamt 100 Zahlen) und `range(1, 101)` alle Zahlen von 1 bis 100.\n",
    "\n",
    "> **Bemerkung:** Die letzte Zahl, welche wir dem [`range()`](https://docs.python.org/3.2/library/functions.html#range) Befehl übergeben, wird aus dem Bereich ausgeschlossen. Will man alle Zahlen bis 100, muss man als Ende des Bereichs 101 angeben. Der Anfang ist jedoch enthalten. Gibt man 1 als Anfang an, so ist auch die 1 noch im Bereich enthalten.\n",
    "\n",
    "Mit [`list()`](https://docs.python.org/3.2/library/functions.html#list) kannst du solche Bereiche in wirkliche Listen konvertieren, um zu betrachten, wie sie aussehen:"
   ]
  },
  {
   "cell_type": "code",
   "execution_count": null,
   "metadata": {},
   "outputs": [],
   "source": [
    "list(range(10))"
   ]
  },
  {
   "cell_type": "code",
   "execution_count": null,
   "metadata": {},
   "outputs": [],
   "source": [
    "list(range(1,11))"
   ]
  },
  {
   "cell_type": "markdown",
   "metadata": {},
   "source": [
    "Einen Bereich können wir nun wie folgt benutzen, um zum Beispiel alle Zahlen von 0 bis 99 aufzulisten:"
   ]
  },
  {
   "cell_type": "code",
   "execution_count": null,
   "metadata": {},
   "outputs": [],
   "source": [
    "for zahl in range(20):\n",
    "    print(zahl)"
   ]
  },
  {
   "cell_type": "markdown",
   "metadata": {},
   "source": [
    "### Aufgaben\n",
    "\n",
    "1. Ergänze das folgende Programm so, dass für jedes Tier aus der Liste `animals` der Satz „… ist ein Tier“ in der Konsole ausgegeben wird. Benutze dafür die [`print()`](https://docs.python.org/3.2/library/functions.html#print)-Funktion."
   ]
  },
  {
   "cell_type": "code",
   "execution_count": null,
   "metadata": {},
   "outputs": [],
   "source": [
    "animals = [\"tiger\", \"mouse\", \"bird\", \"python\", \"elephant\", \"monkey\"]\n",
    "# PLATZ FÜR DEINE LÖSUNG"
   ]
  },
  {
   "cell_type": "markdown",
   "metadata": {},
   "source": [
    "2. Mit `append()` kannst du einer Liste ein Element hinten anfügen. Schreibe ein Programm, welches den Benutzer mit [`input()`](https://docs.python.org/3.2/library/functions.html#input) fünf mal nach einem Wort fragt und alle diese Worte in einer Liste abspeichert. Anschließend werden alle Worte aus der Liste mit [`print()`](https://docs.python.org/3.2/library/functions.html#print) zurückgegeben.\n",
    "\n",
    "  _Erweiterung:_ Frage den Benutzer zuerst, wie viele Worte er eingeben will und frage dann genau so viel mal nach einem Wort."
   ]
  },
  {
   "cell_type": "code",
   "execution_count": null,
   "metadata": {},
   "outputs": [],
   "source": [
    "# PLATZ FÜR DEINE LÖSUNG"
   ]
  },
  {
   "cell_type": "markdown",
   "metadata": {},
   "source": [
    "3. In der Mathematik gibt es die Schreibweise\n",
    "\n",
    "   $n! := n⋅(n−1)⋅(n−2)⋅⋅⋅⋅⋅3⋅2⋅1$\n",
    "   \n",
    "   So wird zum Beispiel $5!$ durch $5⋅4⋅3⋅2⋅1 = 120$ berechnet. Dies wird in der Mathematik als Fakultät von 5 bezeichnet.\n",
    "\n",
    "   Schreibe ein Programm welches n! für ein vom Benutzer vorgegebenes n berechnet. Benutze dafür eine [`for`](https://docs.python.org/3.2/reference/compound_stmts.html#for) Schleife."
   ]
  },
  {
   "cell_type": "code",
   "execution_count": null,
   "metadata": {},
   "outputs": [],
   "source": [
    "# PLATZ FÜR DEINE LÖSUNG"
   ]
  },
  {
   "cell_type": "markdown",
   "metadata": {},
   "source": [
    "4. Schreibe ein Programm, welches die folgende Ausgabe bis zu einer vom Benutzer gewählten Zahl fortsetzt:\n",
    "\n",
    "        1*\n",
    "        2**\n",
    "        3***\n",
    "        4****\n",
    "        5*****\n",
    "        6******\n",
    "        7*******\n",
    "        ...\n",
    "        \n",
    "   _Zusatz:_ Passe das Programm so an, dass es einen Weihnachtsbaum aus Sternchen zeichnet, dessen Höhe vom Benutzer gewählt werden kann."
   ]
  },
  {
   "cell_type": "code",
   "execution_count": null,
   "metadata": {},
   "outputs": [],
   "source": [
    "# PLATZ FÜR DEINE LÖSUNG"
   ]
  },
  {
   "cell_type": "markdown",
   "metadata": {},
   "source": [
    "5. Passe das in einer früheren Aufgabe erweiterte Notenprogramm so an,dass der Benutzer wählen kann, wie viele Noten er eingeben möchte."
   ]
  },
  {
   "cell_type": "code",
   "execution_count": null,
   "metadata": {},
   "outputs": [],
   "source": [
    "# PLATZ FÜR DEINE LÖSUNG"
   ]
  },
  {
   "cell_type": "markdown",
   "metadata": {},
   "source": [
    "## Die `if`-Verzweigung\n",
    "\n",
    "Wie oben erklärt, kommt es vor, dass wir einen Programmblock nur unter einer Bedingung ausführen wollen. Falls die Bedingung nicht erfüllt ist, führen wir entweder nichts oder einen anderen Block aus."
   ]
  },
  {
   "cell_type": "code",
   "execution_count": null,
   "metadata": {},
   "outputs": [],
   "source": [
    "antwort = input(\"Möchtest du Feierabend: \")\n",
    "\n",
    "if antwort in [\"Ja\", \"ja\", \"jep\"]:\n",
    "    print(\"Sehr gut!\")\n",
    "else:\n",
    "    print(\"Ich glaube dir nicht!\")"
   ]
  },
  {
   "cell_type": "markdown",
   "metadata": {},
   "source": [
    "Mit dem Wort [`if`](https://docs.python.org/3.2/reference/compound_stmts.html#if) wird eine Bedingung abgefragt. In diesem Fall ist dies die Frage, ob die als `antwort` gespeicherte Zeichenkette in der Liste enthalten ist oder nicht. (Dieses Enthalten-Sein wird mit dem Wort `in` überprüft.)\n",
    "\n",
    "Der Programmblock, welcher nach dem Wort [`else`](https://docs.python.org/3.2/reference/compound_stmts.html#if) folgt, wird ausgeführt, falls die Bedingung oben falsch ist. Die wichtigen Zeilen sind also die Zeilen\n",
    "```python    \n",
    "if antwort in [\"Ja\", \"ja\", \"jep\"]:\n",
    "```\n",
    "und\n",
    "```python\n",
    "else:\n",
    "```\n",
    "Achte auch hier darauf, wie die [`print()`](https://docs.python.org/3.2/library/functions.html#print) Befehle eingerückt wurden, um Python mitzuteilen, welche Zeilen zu den Blöcken gehören, welche nur bedingt ausgeführt werden sollen.\n",
    "\n",
    "### Aufgaben\n",
    "\n",
    "1. Für Vergleiche, ob etwas größer oder kleiner ist, können die in der Mathematik üblichen Zeichen `<` und `>` benutzt werden. Schreibe ein Programm, welches die folgenden Schritte ausführt:\n",
    "\n",
    "   * Es wird vom Benutzer per input() eine Zahl eingelesen.\n",
    "   * Es wird geprüft, ob die Zahl größer oder kleiner als 10 ist.\n",
    "   * Mit dem Befehl [`print()`](https://docs.python.org/3.2/library/functions.html#print) wird entsprechend entweder „Die Zahl ist größer als 10“ oder „Die Zahl ist kleiner als 10“ ausgegeben.\n"
   ]
  },
  {
   "cell_type": "code",
   "execution_count": null,
   "metadata": {},
   "outputs": [],
   "source": [
    "# PLATZ FÜR DEINE LÖSUNG"
   ]
  },
  {
   "cell_type": "markdown",
   "metadata": {},
   "source": [
    "2. Schreibe ein Programm, welches vom Benutzer 10 Zahlen einliest und diese in einer Liste speichert. Anschließend soll das Minimum und das Maximum der Zahlen aus der liste bestimmt und ausgegeben werden."
   ]
  },
  {
   "cell_type": "code",
   "execution_count": null,
   "metadata": {},
   "outputs": [],
   "source": [
    "# PLATZ FÜR DEINE LÖSUNG"
   ]
  },
  {
   "cell_type": "markdown",
   "metadata": {},
   "source": [
    "3. Ob ein Jahr im Gregorianischen Kalender ein Schaltjahr ist, kann nach den folgenden Regeln entschieden werden:\n",
    "\n",
    "   * Jahre sind Schaltjahre, falls ihre Jahrzahl durch 400 teilbar ist.\n",
    "   * Jahre sind Schaltjahre, falls ihre Jahrzahl durch 4 teilbar ist, außer die Jahrzahl ist durch 100 teilbar.\n",
    "   \n",
    "   Schreibe ein Programm, welches den Benutzer nach einer Jahreszahl fragt und anschließend prüft, ob es sich um ein Schaltjahr handelt."
   ]
  },
  {
   "cell_type": "code",
   "execution_count": null,
   "metadata": {},
   "outputs": [],
   "source": [
    "# PLATZ FÜR DEINE LÖSUNG"
   ]
  },
  {
   "cell_type": "markdown",
   "metadata": {},
   "source": [
    "## Die `while`-Schleife\n",
    "\n",
    "Es gibt Fälle, wo eine [`for`](https://docs.python.org/3.2/reference/compound_stmts.html#for)-Schleife nicht ausreicht, weil wir keine Liste von Elementen haben und auch nicht zu Beginn wissen, wie oft etwas ausgeführt werden soll.\n",
    "\n",
    "Die [`while`](https://docs.python.org/3.2/reference/compound_stmts.html#while)-Schleife wird solange ausgeführt wie eine Bedinung wahr ist. Sie hat die folgende Struktur:\n",
    "\n",
    "```python\n",
    "while Bedingung:\n",
    "    Befehl 1\n",
    "    Befehl 2\n",
    "\n",
    "Befehl 3\n",
    "```\n",
    "Dabei werden die Befehle 1 und 2 solange ausgeführt, wie die Bedingung wahr (also `True`) ist. Sobald die Bedinung falsche (`False`) wird, springt Python zur nächsten nicht eingerückten Zeile, also Befehl 3. Zur Formulierung der Bedingung können dieselben Formen wie bei der [`if`](https://docs.python.org/3.2/reference/compound_stmts.html#if)-Abfrage benutzt werden.\n",
    "\n",
    "Man könnte sich zum Beispiel vorstellen, dass wir in einem Programm dem Benutzer eine Frage gestellt haben, welche mit „Ja“ oder „Nein“ zu beantworten ist. Wenn der Benutzer nicht entweder `J` für Ja oder `N` für Nein eingibt, ist die Eingabe ungültig und wir müssen nochmals nachfragen. Dies würde in Python wie folgt umgesetzt:"
   ]
  },
  {
   "cell_type": "code",
   "execution_count": null,
   "metadata": {},
   "outputs": [],
   "source": [
    "antwort = input('Beantworte die Frage mit Ja oder Nein (J/N): ')\n",
    "\n",
    "while antwort not in ['j', 'J', 'n', 'N']:\n",
    "    print('Eingabe ungültig!')\n",
    "    antwort = input('Beantworte die Frage mit Ja oder Nein (J/N): ')\n",
    "\n",
    "print('Vielen Dank!')"
   ]
  },
  {
   "cell_type": "markdown",
   "metadata": {},
   "source": [
    "Der markierte Codeblock wird so lange wiederholt, wie die Bedingung `antwort not in ['j', 'J', 'n', 'N']` wahr ist. Das heisst, so lange die Antwort nicht in der Liste mit gültigen Antworten enthalten ist.\n",
    "\n",
    "### Aufgaben\n",
    "\n",
    "1. Schreibe ein Programm, welches alle Zahlen von 1 bis 100 auf den Bildschirm schreibt, ohne dafür eine [`for`](https://docs.python.org/3.2/reference/compound_stmts.html#for)-Schleife zu verwenden."
   ]
  },
  {
   "cell_type": "code",
   "execution_count": null,
   "metadata": {},
   "outputs": [],
   "source": [
    "# PLATZ FÜR DEINE LÖSUNG"
   ]
  },
  {
   "cell_type": "markdown",
   "metadata": {},
   "source": [
    "2. Schreibe folgendes Programm (das du schon aus dem Kapitel über [`for`](https://docs.python.org/3.2/reference/compound_stmts.html#for)-Schleifen kennst so um, dass es eine [`while`](https://docs.python.org/3.2/reference/compound_stmts.html#while)-Schleife anstelle der [`for`](https://docs.python.org/3.2/reference/compound_stmts.html#for)-Schleife benutzt."
   ]
  },
  {
   "cell_type": "code",
   "execution_count": null,
   "metadata": {},
   "outputs": [],
   "source": [
    "for zahl in [4,5,7,11,21]:\n",
    "    summe = zahl + 2\n",
    "    print(\"Wenn ich zu\", zahl, \"zwei addiere, erhalte ich\", summe)\n",
    "print(\"Ich bin fertig!\")"
   ]
  },
  {
   "cell_type": "markdown",
   "metadata": {},
   "source": [
    "3. Die Folge aus Fibonacci-Zahlen wird wie folgt gebildet:\n",
    "    - Das erste und das zweite Element sind 0 und 1.\n",
    "    - Jedes folgende Element wird gebildet, in dem die letzten zwei Elemente addiert werden.\n",
    "    \n",
    "   Das heisst, die Folge sieht so aus: 0, 1, 1, 2, 3, 5, 8, 13, 21, 34, ⋯\n",
    "\n",
    "   Schreibe ein Programm, welches die Fibonacci-Zahlen bis zu einer vom Benutzer gewählten Zahl ausgibt."
   ]
  },
  {
   "cell_type": "code",
   "execution_count": null,
   "metadata": {},
   "outputs": [],
   "source": [
    "# PLATZ FÜR DEINE LÖSUNG"
   ]
  },
  {
   "cell_type": "markdown",
   "metadata": {},
   "source": [
    "4. Der Wert einer Immobilie steigt jedes Jahr um $p$ Prozent an. Schreibe ein Programm, welche den Zeitwert dieser Immobilie so lange berechnet, bis der Zeitwert (mehr als) doppelt so groß ist wie der heutige Anfangswert. Frag den Benutzer nach dem Prozentsatz."
   ]
  },
  {
   "cell_type": "code",
   "execution_count": null,
   "metadata": {},
   "outputs": [],
   "source": [
    "# PLATZ FÜR DEINE LÖSUNG"
   ]
  },
  {
   "cell_type": "markdown",
   "metadata": {},
   "source": [
    "5. Eine Firma kauft eine Maschine (der Einkaufspreis ist einzugeben), welche innerhalb einiger Jahre (die Anzahl Jahre ist einzugeben) linear abgeschrieben wird.\n",
    "\n",
    "   _Beispieleingabe:_\n",
    "   20000 (€ Einkaufspreis), 5 (Jahre)\n",
    "\n",
    "   _Beispielausgabe:_\n",
    "    Jahr 1: 16000.00 Jahr 2: 12000.00 Jahr 3: 8000.00 Jahr 4: 4000.00 Jahr 5: 0.00"
   ]
  },
  {
   "cell_type": "code",
   "execution_count": null,
   "metadata": {},
   "outputs": [],
   "source": [
    "# PLATZ FÜR DEINE LÖSUNG"
   ]
  },
  {
   "cell_type": "markdown",
   "metadata": {},
   "source": [
    "6. Herr Spar legt sich jedes Jahr einen festen Betrag (z.B. 800.00 €) auf sein Konto, welches $2.5\\%$ Zins trägt. Er tut dies so lange, bis er einen bestimmten Betrag überschreitet. Dieser Betrag ist auch einzugeben, z.B. 5000.00. Schreibe dazu ein Programm."
   ]
  },
  {
   "cell_type": "code",
   "execution_count": null,
   "metadata": {},
   "outputs": [],
   "source": [
    "# PLATZ FÜR DEINE LÖSUNG"
   ]
  },
  {
   "cell_type": "markdown",
   "metadata": {},
   "source": [
    "7. Ein Gegenstand hat den Wert $k$ (dieser Wert ist Eingabe). Erstelle ein Programm, welche für die nächsten Jahre (die Anzahl Jahre ist Eingabewert) den Zeitwert dieses Gegenstands berechnet, wenn jedes Jahr $p$ Prozent des Werts abgeschrieben werden. (Der Abschreibungssatz $p$ ist auch einzugeben.) Diese Art Abschreibung heißt degressive Abschreibung."
   ]
  },
  {
   "cell_type": "code",
   "execution_count": null,
   "metadata": {},
   "outputs": [],
   "source": [
    "# PLATZ FÜR DEINE LÖSUNG"
   ]
  },
  {
   "cell_type": "markdown",
   "metadata": {},
   "source": [
    "8. Wie lange muss man einen Würfel werfen, bis (zum ersten Mal) eine 6 erscheint? Schreibe ein Programm, welches so lange würfelt, bis eine 6 erschienen ist.\n",
    "\n",
    "   _Eingabe:_ keine\n",
    "\n",
    "   _Ausgabe:_ alle geworfenen Zahlen und die Anzahl Würfe."
   ]
  },
  {
   "cell_type": "code",
   "execution_count": null,
   "metadata": {},
   "outputs": [],
   "source": [
    "# PLATZ FÜR DEINE LÖSUNG"
   ]
  },
  {
   "cell_type": "markdown",
   "metadata": {},
   "source": [
    "9. Ein Würfel wird so lange geworfen, bis die Summe aller Würfe 100 oder mehr beträgt. Zum Simulieren eines Würfels kannst du die Funktion `randrange()` aus dem Modul [`random`](https://docs.python.org/3.2/library/random.html#module-random) benutzen.\n",
    "\n",
    "   a. Bestimme mit einem Programm, wie viele Würfe dazu nötig sind.\n",
    "   \n",
    "   b. Schreibe ein Programm, welches mit Hilfe einer Liste zählt, wie oft welche Augenzahl geworfen wurde. Am Ende soll die Liste mit [`print()`](https://docs.python.org/3.2/library/functions.html#print) ausgegeben werden.\n",
    "   \n",
    "   c. Ändere das Programm so ab, dass so lange gewürfelt wird, bis zum ersten Mal eine Zahl 50 Mal geworfen wurde. Gib an, wie oft die anderen Zahlen geworfen wurden."
   ]
  },
  {
   "cell_type": "code",
   "execution_count": null,
   "metadata": {},
   "outputs": [],
   "source": [
    "# PLATZ FÜR DEINE LÖSUNG"
   ]
  },
  {
   "cell_type": "markdown",
   "metadata": {},
   "source": [
    "10. Der Computer „würfelt“ eine Zufallszahl zwischen 1 und 6 (Grenzen inklusive). Der Spieler versucht nun, die gewürfelte Zahl zu erraten. Bestimme mit einem Programm, wie viele Versuche dazu nötig sind."
   ]
  },
  {
   "cell_type": "code",
   "execution_count": null,
   "metadata": {},
   "outputs": [],
   "source": [
    "# PLATZ FÜR DEINE LÖSUNG"
   ]
  },
  {
   "cell_type": "markdown",
   "metadata": {},
   "source": [
    "11. Schreibe ein Programm, welches mit [`input()`](https://docs.python.org/3.2/library/functions.html#input) zwei Zahlen vom Benutzer einliest und den größten gemeinsamen Teiler der beiden Zahlen mit [`print()`](https://docs.python.org/3.2/library/functions.html#print) ausgibt.\n",
    "\n",
    "    Dazu kannst du den Euklidischen Algorithmus benutzen, welchen du entweder aus dem Mathematikunterricht kennst oder sonst sicher im Internet findest."
   ]
  },
  {
   "cell_type": "code",
   "execution_count": null,
   "metadata": {},
   "outputs": [],
   "source": [
    "# PLATZ FÜR DEINE LÖSUNG"
   ]
  },
  {
   "cell_type": "markdown",
   "metadata": {},
   "source": [
    "## Kombinieren von Kontrollstrukturen\n",
    "\n",
    "Wie du sicherlich schon festgestellt hast, kommt man nie mit einer einzelnen Kontrollstruktur aus, die meisten Problemstellungen benötigen ein geschicktes Kombinieren von [`if`](https://docs.python.org/3.2/reference/compound_stmts.html#if), [`for`](https://docs.python.org/3.2/reference/compound_stmts.html#for) und [`while`](https://docs.python.org/3.2/reference/compound_stmts.html#while). Dazu kommt meistens noch die Wahl einer Datenstruktur: Macht es Sinn, einzelne Variablen zu benutzen oder ist etwa eine Liste geeigneter? Halte dich beim Programmieren an folgende Grundsätze:\n",
    "\n",
    "- Nummeriere keine Variablen. Wenn du in deinem Programm etwa Variablen-Namen `x_wert_1`, `x_wert_2` und `x_wert_3` hast, ist dies ein Hinweis darauf, dass du vermutlich besser eine Liste verwenden würdest.\n",
    "- Benutze wenn immer möglich ein `elif`, wenn du mehrere [`if`](https://docs.python.org/3.2/reference/compound_stmts.html#if)-Abfragen hintereinander ausführst.\n",
    "- Natürlich gilt weiterhin: Schreibe am besten zuerst die Kommentare für dein Programm und dann den Programmcode. Falls du dies lieber nicht machst, achte auf jeden Fall darauf, dass du jeden logisch zusammenhängenden Programmblock mit einem oder mehreren #-Kommentarzeilen erklärst.\n",
    "\n",
    "Löse die folgenden Aufgaben unter Beachtung der genannten Grundsätze.\n",
    "\n",
    "### Aufgaben\n",
    "\n",
    "1. Schreibe ein Programm, welches den Benutzer mit Hilfe von [`input()`](https://docs.python.org/3.2/library/functions.html#input) nach einem Satz fragt.\n",
    "    - Das Programm soll anschließend die Anzahl Worte im Satz sowie die Anzahl Buchstaben ausgeben.\n",
    "    - Erweitere das Programm so, dass es auch angibt, wie viele Buchstaben davon Großbuchstaben sind."
   ]
  },
  {
   "cell_type": "code",
   "execution_count": null,
   "metadata": {},
   "outputs": [],
   "source": [
    "# PLATZ FÜR DEINE LÖSUNG"
   ]
  },
  {
   "cell_type": "markdown",
   "metadata": {},
   "source": [
    "2. Schreibe ein Programm, welches den Benutzer nach einer Zahl fragt und anschließend prüft, ob diese Zahl eine Primzahl ist."
   ]
  },
  {
   "cell_type": "code",
   "execution_count": null,
   "metadata": {},
   "outputs": [],
   "source": [
    "# PLATZ FÜR DEINE LÖSUNG"
   ]
  },
  {
   "cell_type": "markdown",
   "metadata": {},
   "source": [
    "3. Schreibe ein Programm, welches alle Primzahlen zwischen 1 und einer vom Benutzer gewählten oberen Grenze ausgibt."
   ]
  },
  {
   "cell_type": "code",
   "execution_count": null,
   "metadata": {},
   "outputs": [],
   "source": [
    "# PLATZ FÜR DEINE LÖSUNG"
   ]
  },
  {
   "cell_type": "markdown",
   "metadata": {},
   "source": [
    "4. Im Zahlenlotto werden sechs Zahlen aus 49 zufällig ausgewählt, wobei keine doppelt vorkommen darf. Schreibe ein Programm, welches 6 Zahlen aus 49 zufällig wählt. Verwende dafür wiederum Funktionen aus dem [`random`](https://docs.python.org/3.2/library/random.html#module-random) Modul.\n",
    "\n",
    "   a. Benutze ausschließlich die `randrange()` Funktion, um dies zu erreichen.\n",
    "   \n",
    "   b. Lies die Dokumentation des [`random`](https://docs.python.org/3.2/library/random.html#module-random) Moduls und versuche jene Funktion zu finden, mit welcher du die Aufgabe am einfachsten lösten kannst. (Das heißt mit möglichst wenig Programmcode)"
   ]
  },
  {
   "cell_type": "code",
   "execution_count": null,
   "metadata": {},
   "outputs": [],
   "source": [
    "# PLATZ FÜR DEINE LÖSUNG"
   ]
  },
  {
   "cell_type": "markdown",
   "metadata": {},
   "source": [
    "5. Das Collatz-Problem gehört zu den ungelösten Problemen der Mathematik. Es besagt, dass jede Abfolge von Zahlen, welche nach der folgenden Regel gebildet wird, irgendwann bei der Zahl 1 landet:\n",
    "\n",
    "   - Die Folge beginnt bei einer beliebigen Zahl.\n",
    "   - Ist die momentane Zahl $n$ gerade, so ist die nächste Zahl die Hälfte von dieser, also $\\frac{n}{2}$.\n",
    "   - Ist die momentane Zahl $n$ ungerade, so ist die nächste Zahl um eins größer als das dreifache der Zahl, also $n+1$.\n",
    "\n",
    "   Bilden wir beispielsweise für die Zahl 23 diese Folge, so lautet sie:\n",
    "\n",
    "   $23,70,35,106,53,160,80,40,20,10,5,16,8,4,2,1$\n",
    "\n",
    "   Schreibe ein Programm, welches diese Folge für eine vom Benutzer gewählte Zahl ausgibt und mit der Berechnung stoppt, sobald 1 erreicht wurde."
   ]
  },
  {
   "cell_type": "code",
   "execution_count": null,
   "metadata": {},
   "outputs": [],
   "source": [
    "# PLATZ FÜR DEINE LÖSUNG"
   ]
  },
  {
   "cell_type": "markdown",
   "metadata": {},
   "source": [
    "6. Schreibe ein Programm, welches eine Liste von Zahlen sortiert und gib das Ergebnis in der Konsole aus. Für die Liste `[1,4,3,3,5,7,2]` sollte das Ergebnis die Liste `[1,2,3,3,4,5,7]` sein.\n",
    "\n",
    "   a. Speichere die Liste in der ersten Zeile als Variable ab und sortiere sie anschließend.\n",
    "   \n",
    "   b. Frage den Benutzer nach der Liste von Zahlen. Überlege dir, wie du es am besten lösen kannst, dass der Benutzer eine vorher nicht bekannte Anzahl Zahlen eingeben kann."
   ]
  },
  {
   "cell_type": "code",
   "execution_count": null,
   "metadata": {},
   "outputs": [],
   "source": [
    "# PLATZ FÜR DEINE LÖSUNG"
   ]
  }
 ],
 "metadata": {
  "kernelspec": {
   "display_name": "Python 3",
   "language": "python",
   "name": "python3"
  },
  "language_info": {
   "codemirror_mode": {
    "name": "ipython",
    "version": 3
   },
   "file_extension": ".py",
   "mimetype": "text/x-python",
   "name": "python",
   "nbconvert_exporter": "python",
   "pygments_lexer": "ipython3",
   "version": "3.6.6"
  }
 },
 "nbformat": 4,
 "nbformat_minor": 2
}
