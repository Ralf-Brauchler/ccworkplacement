{
 "cells": [
  {
   "cell_type": "markdown",
   "metadata": {},
   "source": [
    "# Erste Programmelemente\n",
    "\n",
    "## Kommentare\n",
    "\n",
    "Kommentarzeilen in Programmen sind Zeilen, welche vom Computer nicht beachtet werden. In allen Programmiersprachen beginnen diese Zeilen mit einem bestimmten Zeichen. Zeilen, welche mit dem Zeichen `#` beginnen, werden von Python als Kommentare betrachtet und ignoriert. Steht das Zeichen `#` nicht am Anfang einer Zeile, wird nur der Teil der Zeile ignoriert, welcher nach dem Zeichen kommt.\n",
    "\n",
    "**Beispiel:**"
   ]
  },
  {
   "cell_type": "code",
   "execution_count": null,
   "metadata": {},
   "outputs": [],
   "source": [
    "# Dies ist eine Kommentarzeile, welche ignoriert wird\n",
    "\n",
    "print(\"Hallo!\") # Die Zeile wird erst ab hier ignoriert."
   ]
  },
  {
   "cell_type": "markdown",
   "metadata": {},
   "source": [
    "Nun fragt man sich vielleicht, was denn der Sinn hinter Zeilen ist, welche von Python gar nicht beachtet werden. Diese erfüllen sehr wichtige Funktionen:\n",
    "\n",
    "- Sie dienen dazu, dass andere Personen deine Programme einfacher lesen und verstehen können.\n",
    "- Sie helfen dir, ein Programm oder einen Programmabschnitt zu planen.\n",
    "\n",
    "Wenn du zum Beispiel ein Programm schreiben möchtest, welches den Benutzer nach zwei Zahlen fragt, diese addiert und dann die Summe auf dem Bildschirm ausgibt, kannst du dieses Programm schon planen, ohne eine Ahnung zu haben, wie die einzelnen Schritte funktionieren.\n",
    "Dazu schreibst du das folgende Programm:"
   ]
  },
  {
   "cell_type": "code",
   "execution_count": null,
   "metadata": {},
   "outputs": [],
   "source": [
    "###########################################\n",
    "##                                       ##\n",
    "## Programm zur Addition von zwei Zahlen ##\n",
    "##                                       ##\n",
    "###########################################\n",
    "\n",
    "# Benutzer nach zwei Zahlen fragen und diese speichern\n",
    "\n",
    "# Die erhaltenen Zahlen addieren\n",
    "\n",
    "# Die Summe auf dem Bildschirm ausgeben"
   ]
  },
  {
   "cell_type": "markdown",
   "metadata": {},
   "source": [
    "Wenn du Python dieses Programm ausführen lässt, passiert erst einmal gar nichts. Es besteht ja nur aus Zeilen, welche von Python nicht beachtet werden. Doch du hast nun eine ziemlich genaue Vorstellung, in welcher Reihenfolge du das Programm schreiben willst. Sobald du gelernt hast, wie man dies tut, kannst du die entsprechenden Blöcke zwischen die Kommentare programmieren.\n",
    "\n",
    "## Variablen\n",
    "\n",
    "Variablen in Python werden genau wie in jeder anderen Programmiersprache zum Abspeichern oder Zwischenspeichern von Werten (Zahlen, Text, Listen usw.) benutzt.\n",
    "\n",
    "In Python stellt man sich Variablen jedoch besser als Namensschilder vor, welche man einem Objekt gibt. Wenn du zum Beispiel ein Zwischenergebnis einer Rechnung hast, gibst du ihm einen Namen, welcher erklärt, um was es sich handelt. In diesem Fall ist vermutlich der Name `zwischenergebnis` angebracht.\n",
    "\n",
    "Das Anhängen eines Namensschildes wird in Python mit `=` ausgedrückt. Auf der linken Seite des Gleichzeichens steht der neue Name und auf der rechten Seite das Objekt, welches den Namen erhalten soll. Hier ein Beispiel:"
   ]
  },
  {
   "cell_type": "code",
   "execution_count": null,
   "metadata": {},
   "outputs": [],
   "source": [
    "zwischenergebnis = 3.14111222\n",
    "zwischenergebnis"
   ]
  },
  {
   "cell_type": "markdown",
   "metadata": {},
   "source": [
    "Wie du siehst steht der Name `zwischenergebnis` jetzt für die Zahl `3.1411222`.\n",
    "\n",
    "Die Wahl des Zeichens `=` ist aus mathematischer Sicht ungünstig. In der Mathematik hat das Zeichen eine andere Bedeutung. Es sagt einfach, dass zwei Sachen gleich sind. Dabei spielt es aber keine Rolle, was links und was rechts des Gleichzeichens steht.\n",
    "\n",
    "Mathematisch gesehen ist der folgende Ausdruck eine Gleichung ohne Lösung: $x = x + 1$\n",
    "\n",
    "In Python macht es aber durchaus Sinn, diese Befehlsabfolge auszuführen:"
   ]
  },
  {
   "cell_type": "code",
   "execution_count": null,
   "metadata": {},
   "outputs": [],
   "source": [
    "x = 4\n",
    "x = x + 1\n",
    "x"
   ]
  },
  {
   "cell_type": "markdown",
   "metadata": {},
   "source": [
    "Es wird nämlich einfach der Wert der Variable um eins erhöht."
   ]
  },
  {
   "cell_type": "markdown",
   "metadata": {},
   "source": [
    "Im letzten Kapitel hast du die Funktion [`input()`](https://docs.python.org/3.2/library/functions.html#input) kennen gelernt. Diese kannst du nun benutzen, um eine Eingabe vom Benutzer einzulesen und anschließend in einer Variable abzuspeichern. Du musst dir immer auch überlegen, was du den Benutzer fragen möchtest, damit das Programm möglichst bedienerfreundlich wird.\n",
    "\n",
    "So fragen wir den Benutzer zum Beispiel mit dem folgenden Befehl nach seinem Namen und speichern ihn in einer Variable mit der Bezeichnung `name` ab:"
   ]
  },
  {
   "cell_type": "code",
   "execution_count": null,
   "metadata": {},
   "outputs": [],
   "source": [
    "name = input(\"Wie heißt du?\")"
   ]
  },
  {
   "cell_type": "code",
   "execution_count": null,
   "metadata": {},
   "outputs": [],
   "source": [
    "name"
   ]
  },
  {
   "cell_type": "markdown",
   "metadata": {},
   "source": [
    "Wie du siehst, ist nun unter `name` der Wert gespeichert den du eingegeben hast. Warum die Anführungszeichen (`'`) vorkommen, lernst du im nächsten Kapitel. Python kennzeichnet damit die Tatsache, dass es sich um Text handelt.\n",
    "\n",
    "### Aufgaben\n",
    "\n",
    "1. Überlege dir was der folgende Programmcode macht. Was ist nach dem Ausführen der Zeilen in den Variablen `erste_zahl`, `zweite_zahl` und `temp` gespeichert? Wozu dient also der Programm-Ausschnitt?"
   ]
  },
  {
   "cell_type": "code",
   "execution_count": null,
   "metadata": {},
   "outputs": [],
   "source": [
    "erste_zahl = 7\n",
    "zweite_zahl = 9\n",
    "temp = erste_zahl\n",
    "erste_zahl = zweite_zahl\n",
    "zweite_zahl = temp"
   ]
  },
  {
   "cell_type": "markdown",
   "metadata": {},
   "source": [
    "2. Probiere in der nächsten Zelle folgende Variablennamen aus, in dem du eine beliebige Zahl abspeicherst: `zahl2`, `Zahl2`, `Zahl 2`, `2zahl`, `zahl.2`, `Zahl_2`, `2_Zahl`, `_Zahl2`. Dies machst du am einfachsten in dem du versuchst, etwas unter der Variable abzuspeichern und anschließend kontrollierst, ob es geklappt hat. Welche Variablennamen sind zulässig? Finde anhand der obigen Beispiele heraus, wie die Regeln für zulässige Variablennamen lauten. Folgendes Beispiel kannst du für die Aufgabe editieren:"
   ]
  },
  {
   "cell_type": "code",
   "execution_count": null,
   "metadata": {},
   "outputs": [],
   "source": [
    "variablen_name = 28\n",
    "variablen_name"
   ]
  },
  {
   "cell_type": "markdown",
   "metadata": {},
   "source": [
    "3. Schreibe ein Programm, welches vom Benutzer mit [`input()`](https://docs.python.org/3.2/library/functions.html#input) eine Eingabe verlangt, diese in einer Variable speichert und anschließend mit [`print()`](https://docs.python.org/3.2/library/functions.html#print) wieder ausgibt. Vergiss nicht, das Programm zu kommentieren."
   ]
  },
  {
   "cell_type": "code",
   "execution_count": null,
   "metadata": {},
   "outputs": [],
   "source": [
    "# PLATZ FÜR DEINE LÖSUNG"
   ]
  },
  {
   "cell_type": "markdown",
   "metadata": {},
   "source": [
    "## Verwenden von Modulen\n",
    "\n",
    "Gewisse Funktionalitäten wurden in Python in sogenannte Module ausgegliedert. Auf diese Art kann die Grundinstallation von Python schlank gehalten werden und Module nach bedarf nachgeladen weden. Wir schauen und das ganze am Beispiel des [`math`](https://docs.python.org/3.2/library/math.html#module-math) Moduls anschauen. In diesem werden verschiedne mathematische Funktionen wie zum Beispiel `sqrt()` zur Berechnung der Quadratwurzel zur Verfügung gestellt. Führst du die folgende Zeile aus, wird dir Python einen Fehler ausgeben:"
   ]
  },
  {
   "cell_type": "code",
   "execution_count": null,
   "metadata": {},
   "outputs": [],
   "source": [
    "sqrt(49)"
   ]
  },
  {
   "cell_type": "markdown",
   "metadata": {},
   "source": [
    "Du musst zuerst die `sqrt()` Funktion aus dem [`math`](https://docs.python.org/3.2/library/math.html#module-math) Modul laden. Dies geschieht über den Befehl [`import`](https://docs.python.org/3.2/reference/simple_stmts.html#import)."
   ]
  },
  {
   "cell_type": "code",
   "execution_count": null,
   "metadata": {},
   "outputs": [],
   "source": [
    "from math import sqrt\n",
    "sqrt(49)"
   ]
  },
  {
   "cell_type": "markdown",
   "metadata": {},
   "source": [
    "Diese Beispiel berechnet nun erfolgreich die Wurzel aus 49. Falls man alle Befehle von einem Modul importieren möchte, kann man das Modul als ganzes importieren. Dann muss man aber bei jedem Befehl festlegen, dass er aus dem besagten Modul kommt."
   ]
  },
  {
   "cell_type": "code",
   "execution_count": null,
   "metadata": {},
   "outputs": [],
   "source": [
    "import math\n",
    "math.sqrt(49)"
   ]
  },
  {
   "cell_type": "markdown",
   "metadata": {},
   "source": [
    "Teilweise findet man in Beispielen auch die Form `from math import *`, welche alle Befehle aus dem [`math`](https://docs.python.org/3.2/library/math.html#module-math) Modul importiert. Dies gilt aber vor allem in größeren Programmen als schlechter Programmierstil, da man nicht genau weiß, welche Befehle damit alles importiert werden.\n",
    "\n",
    "Oft auch nützlich ist das [`random`](https://docs.python.org/3.2/library/random.html#module-random) Paket, welches verschiedene Funktionen enthält, um Zufallszahlen zu generieren, Listen zu mischen oder zufällige Elemente auszuwählen. Wir können zum Beispiel mit den folgenden Zeilen einen Würfel simulieren, denn `randint(1, 6)` gibt eine Zahl zwischen 1 und 6 aus:"
   ]
  },
  {
   "cell_type": "code",
   "execution_count": null,
   "metadata": {},
   "outputs": [],
   "source": [
    "from random import randint\n",
    "randint(1, 6)"
   ]
  },
  {
   "cell_type": "markdown",
   "metadata": {},
   "source": [
    "> **Siehe auch:** Einen Überblick über alle verfügbaren Pakete in der Python Standard Bibliothek findest du in der Python-Dokumentation unter:\n",
    "https://docs.python.org/3/library/\n",
    "\n",
    "### Aufgaben\n",
    "\n",
    "1. Schreibe ein Programm, welches die Länge der Diagonale eines Rechtecks mit den Seitenlängen `a` und `b`berechnet. Speichere das Ergebnis in der Variable `diagonale`."
   ]
  },
  {
   "cell_type": "code",
   "execution_count": null,
   "metadata": {},
   "outputs": [],
   "source": [
    "# PLATZ FÜR DEINE LÖSUNG"
   ]
  },
  {
   "cell_type": "markdown",
   "metadata": {},
   "source": [
    "2. Drei Würfel werden miteinander geworfen. Schreibe ein Programm, welches drei Würfe simuliert und die Summe der geworfenen Zahlen ausgibt."
   ]
  },
  {
   "cell_type": "code",
   "execution_count": null,
   "metadata": {},
   "outputs": [],
   "source": [
    "# PLATZ FÜR DEINE LÖSUNG"
   ]
  }
 ],
 "metadata": {
  "kernelspec": {
   "display_name": "Python 3",
   "language": "python",
   "name": "python3"
  },
  "language_info": {
   "codemirror_mode": {
    "name": "ipython",
    "version": 3
   },
   "file_extension": ".py",
   "mimetype": "text/x-python",
   "name": "python",
   "nbconvert_exporter": "python",
   "pygments_lexer": "ipython3",
   "version": "3.7.3"
  }
 },
 "nbformat": 4,
 "nbformat_minor": 2
}
