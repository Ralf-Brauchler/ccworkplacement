{
 "cells": [
  {
   "cell_type": "markdown",
   "metadata": {},
   "source": [
    "# Funktionen"
   ]
  },
  {
   "cell_type": "markdown",
   "metadata": {},
   "source": [
    "In den vorherigen Kapiteln haben wir immer wieder auf Funktionen zurückgegriffen, welche uns von Python zur Verfügung gestellt wurden. Wenn du beispielsweise den Befehl `len(\"Haus\")` eingibst, bekommen wir von der Funktion `len()` den Rückgabewert `4` zurück. Dieser Wert ändert sich natürlich, wenn ein anderes Argument als `\"Haus\"` der Funktion übergeben wird.\n",
    "\n",
    "In diesem Kapitel besprechen wir, wie man selber solche Funktionen definieren kann. Es gibt verschiedene Gründe, warum es Sinn macht Funktionen zu definieren.\n",
    "\n",
    "1. Mehrer hintereinander ausgeführte Anweisungen können unter einem Namen zusammengefasst werden. Es kann also als __Strukturierungselement__ angesehen werden, das eine Menge von Anweisungen gruppiert.\n",
    "\n",
    "\n",
    "2. Ein längeres Programm erhält durch Funktionen eine Struktur, welche helfen kann, den Code besser lesen und verstehen zu können.\n",
    "\n",
    "\n",
    "3. Ein Funktionsname kann dabei helfen zu verstehen, was das Unterprogramm berechnet oder ausführt.\n",
    "\n",
    "\n",
    "4. Muss eine Codesequenz mehr als einmal ausgeführt werden, so braucht man nur den Funktionsnamen aufzurufen (Vermeidung von Codeduplizität).\n",
    "\n",
    "\n",
    "Betrachten wir das folgende Beispiel:"
   ]
  },
  {
   "cell_type": "code",
   "execution_count": null,
   "metadata": {},
   "outputs": [],
   "source": [
    "from random import randint\n",
    "\n",
    "eingabe = int(input(\"Gib eine positive ganze Zahl an: \"))\n",
    "\n",
    "liste = []\n",
    "for i in range(eingabe):\n",
    "    liste.append(randint(0,100))\n",
    "\n",
    "result = 0\n",
    "for i in range(eingabe):\n",
    "    result = result + liste[i]\n",
    "    \n",
    "result = result / len(liste)\n",
    "\n",
    "print(\"Das Ergebnis lautet \" + str(result) + \".\")"
   ]
  },
  {
   "cell_type": "markdown",
   "metadata": {},
   "source": [
    "Es benötigt eine Weile um zu verstehen, was das Programm genau macht. Bei genauerem Hinsehen sieht man, dass die paar Codezeilen aus zwei Hauptteilen besteht: Zuerst wird eine zufällig, ganzzahlige Liste erstellt und danach deren arithmetischen Mittelwert berechnet.\n",
    "\n",
    "Lagern wir diese zwei Hauptteile in Funktionen mit geeigneten Namen aus, so wird das Programm verständlicher zu lesen sein, ohne sich um programmtechnische Details kümmern zu müssen:"
   ]
  },
  {
   "cell_type": "code",
   "execution_count": null,
   "metadata": {},
   "outputs": [],
   "source": [
    "from random import randint\n",
    "\n",
    "def zufallsliste_erstellen(eine_zahl):\n",
    "    liste = []\n",
    "    for i in range(eine_zahl):\n",
    "        liste.append(randint(0,100))\n",
    "    return liste\n",
    "\n",
    "def berechne_mittelwert(eine_liste):\n",
    "    result = 0\n",
    "    for i in range(len(eine_liste)):\n",
    "        result = result + eine_liste[i]\n",
    "\n",
    "    result = result / len(eine_liste)\n",
    "\n",
    "    print(\"Das Ergebnis lautet \" + str(result) + \".\")\n",
    "\n",
    "# Hauptprogramm\n",
    "eingabe = int(input(\"Gib eine positive ganze Zahl an: \"))\n",
    "zufallsliste = zufallsliste_erstellen(eingabe)\n",
    "berechne_mittelwert(zufallsliste)"
   ]
  },
  {
   "cell_type": "markdown",
   "metadata": {},
   "source": [
    "Das Programm besteht nun wesentlich aus den Zeilen 19-21. Nur das Lesen dieser 3 Zeilen reicht aus, um zu verstehen, was das gesamte Programm macht. Die Anweisungen für das Erstellen einer Zufallsliste und die Berechnung des arithmetischen Mittelwertes wurden in Funktionen ausgelagert (siehe Zeile 1-17).\n",
    "\n",
    "Zusätzlich stehen die Möglichkeiten der beiden Funktionen zu jedem beliebigen Zeitpunkt später im Programm wieder zur Verfügung. D.h. alleine durch den Funktionsaufruf `zufallsliste_erstellen()` kann jederzeit im Programm wieder eine Zufallsliste erstellt werden, ohne die ganzen Anweisungen nochmals aufschreiben zu müssen.\n",
    "\n",
    "Betrachten wir nun im Detail, wie Funktionen in Python erstellt werden können."
   ]
  },
  {
   "cell_type": "markdown",
   "metadata": {},
   "source": [
    "## Eine Funktion ohne Rückgabewert definieren"
   ]
  },
  {
   "cell_type": "markdown",
   "metadata": {},
   "source": [
    "Mit dem Keyword `def` führen wir eine neue Funktion ein. Nach der Anweisung `def` steht der Name der Funktion, gefolgt von runden Klammern `()`. In der Klammer `()` werden die Argumente, falls welche verlangt, aufgelistet. Zum Schluss kommt noch der obligate Doppelpunkt `:`. Die darauffolgende Zeilen müssen wie üblich eingerückt sein, ansonsten gehören sie nicht mehr zur Funktion.\n",
    "\n",
    "Hier ein Beispiel einer Funktion, welche eine Zahl als Übergabeparameter erwartet. Die Funktion selber multipliziert die Eingabe mit 2 und gibt das Resultat auf der Konsole wieder aus."
   ]
  },
  {
   "cell_type": "code",
   "execution_count": null,
   "metadata": {},
   "outputs": [],
   "source": [
    "def mit_zwei_multiplizieren(eingabe):\n",
    "    eingabe = 2*eingabe\n",
    "    print(\"Verdopple ich diese Zahl, so erhalte ich \",eingabe)\n",
    "\n",
    "\n",
    "zahl = int(input(\"Gib eine ganze Zahl ein: \"))\n",
    "mit_zwei_multiplizieren(zahl)\n",
    "zahl = int(input(\"Gib eine weitere ganze Zahl ein: \"))\n",
    "mit_zwei_multiplizieren(zahl)\n",
    "\n",
    "print(\"Danke für die Eingabe.\")"
   ]
  },
  {
   "cell_type": "markdown",
   "metadata": {},
   "source": [
    "Jedes Mal wenn im Programm die Funktion `mit_zwei_multiplizieren()` aufgerufen wird, wird der Codeblock bei der Definition der Funktion (in unserem Beispiel Zeile 2 und 3) ausgeführt.\n",
    "\n",
    "Natürlich können der Funktion auch mehr als nur ein Argument übergeben werden."
   ]
  },
  {
   "cell_type": "code",
   "execution_count": null,
   "metadata": {},
   "outputs": [],
   "source": [
    "# Eingabe: Längen des Rechtecks\n",
    "# Ausgabe in der Konsole: Fläche des Rechtecks\n",
    "def flaeche_rechteck(a,b):\n",
    "    print(\"Die Fläche des Rechtecks ist \"+str(a*b)+\".\")"
   ]
  },
  {
   "cell_type": "markdown",
   "metadata": {},
   "source": [
    "Eine mögliche Ausgabe könnte dann folgendermassen aussehen:"
   ]
  },
  {
   "cell_type": "code",
   "execution_count": null,
   "metadata": {},
   "outputs": [],
   "source": [
    "flaeche_rechteck(3,7)\n",
    "flaeche_rechteck(2.3,5.1)"
   ]
  },
  {
   "cell_type": "markdown",
   "metadata": {},
   "source": [
    "### Aufgaben"
   ]
  },
  {
   "cell_type": "markdown",
   "metadata": {},
   "source": [
    "#### 1.\n",
    "Erstelle eine Funktion, welche einen String als Argument erwartet und den ersten und letzten Buchstaben des Strings ausgibt."
   ]
  },
  {
   "cell_type": "code",
   "execution_count": null,
   "metadata": {},
   "outputs": [],
   "source": [
    "# Deine Lösung hier"
   ]
  },
  {
   "cell_type": "markdown",
   "metadata": {},
   "source": [
    "#### 2.\n",
    "Schreibe eine Funktion `summe()`, welche für die Eingabe einer Zahl `n` folgendes Resultat ausgibt:\n",
    "\n",
    "`summe:=1+2+⋯+n`\n",
    "\n",
    "Es sollte dann z.B. folgendermassen aussehen`\n",
    "\n",
    "```\n",
    "summe(4)\n",
    "10\n",
    "summe(100)\n",
    "5050\n",
    "```"
   ]
  },
  {
   "cell_type": "code",
   "execution_count": null,
   "metadata": {},
   "outputs": [],
   "source": [
    "# Deine Lösung hier"
   ]
  },
  {
   "cell_type": "markdown",
   "metadata": {},
   "source": [
    "#### 3.\n",
    "Definiere eine Funktion `teilermenge(zahl)`, welche die Menge der Teiler von `zahl` ausgibt. Zum Beispiel:\n",
    "\n",
    "```\n",
    "teilermenge(24)\n",
    "[1, 2, 3, 4, 6, 8, 12, 24]\n",
    "```"
   ]
  },
  {
   "cell_type": "code",
   "execution_count": null,
   "metadata": {},
   "outputs": [],
   "source": [
    "# Deine Lösung hier"
   ]
  },
  {
   "cell_type": "markdown",
   "metadata": {},
   "source": [
    "## Eine Funktion mit Rückgabewert definieren"
   ]
  },
  {
   "cell_type": "markdown",
   "metadata": {},
   "source": [
    "Unsere selbst geschriebenen Funktionen von oben haben bisher die Resultate lediglich auf der Konsole ausgegeben. Jedoch kann es sein, dass die Ergebnisse für den weiteren Programmverlauf gebraucht und weiter verarbeitet werden müssen. In solchen Fällen macht es Sinn Funktionen zu definieren, welche mir ein Ergebnis zurückgeben, wie z.B."
   ]
  },
  {
   "cell_type": "code",
   "execution_count": null,
   "metadata": {},
   "outputs": [],
   "source": [
    "len(\"Haus\")"
   ]
  },
  {
   "cell_type": "markdown",
   "metadata": {},
   "source": [
    "Nehmen wir das gleiche Beispiel von oben:"
   ]
  },
  {
   "cell_type": "code",
   "execution_count": null,
   "metadata": {},
   "outputs": [],
   "source": [
    "# Eingabe: Längen des Rechtecks\n",
    "# Ausgabe in der Konsole: Fläche des Rechtecks\n",
    "def flaeche_rechteck(a,b):\n",
    "    print(\"Die Fläche des Rechtecks ist \"+str(a*b)+\".\")"
   ]
  },
  {
   "cell_type": "code",
   "execution_count": null,
   "metadata": {},
   "outputs": [],
   "source": [
    "flaeche_rechteck(5,6)"
   ]
  },
  {
   "cell_type": "markdown",
   "metadata": {},
   "source": [
    "Diese Funktion gibt auf der Konsole die Fläche des Rechtecks mit Längen `a` und `b` aus. Möchte man das Ergebnis nicht ausgeben, sondern z.B. für eine Weiterverarbeitung zurückgeben, so kann dies mit der `return` Anweisung gemacht werden:"
   ]
  },
  {
   "cell_type": "code",
   "execution_count": null,
   "metadata": {},
   "outputs": [],
   "source": [
    "def flaeche_rechteck(a,b):\n",
    "    return a*b"
   ]
  },
  {
   "cell_type": "markdown",
   "metadata": {},
   "source": [
    "Nun kann das Ergebnis der Funktion flaeche_rechteck() in einer Variable gespeichert und weiter verwendet werden."
   ]
  },
  {
   "cell_type": "code",
   "execution_count": null,
   "metadata": {},
   "outputs": [],
   "source": [
    "a = flaeche_rechteck(2,5)\n",
    "a"
   ]
  },
  {
   "cell_type": "markdown",
   "metadata": {},
   "source": [
    "#### Bemerkung\n",
    "<blockquote>\n",
    "Eine Funktion mit einem return Statement kommt dem Konzept einer Funktion im Sinne der Mathematik sehr nahe:\n",
    "\n",
    "`y=f(x)`\n",
    "\n",
    "wobei\n",
    "\n",
    "`f:Funktionsname`\n",
    "\n",
    "`x:Argument`\n",
    "\n",
    "`y:Rückgabewert`\n",
    "\n",
    "Mehr zum Thema Funktionen findest du in der Dokumentation unter\n",
    "\n",
    "https://docs.python.org/3.2/tutorial/controlflow.html#defining-functions\n",
    "</blockquote>"
   ]
  },
  {
   "cell_type": "markdown",
   "metadata": {},
   "source": [
    "### Aufgaben"
   ]
  },
  {
   "cell_type": "markdown",
   "metadata": {},
   "source": [
    "#### 1.\n",
    "In den vorherigen Kapiteln hast du die Fakultät in den Aufgaben bereits kennengelernt.\n",
    "\n",
    "`n!:=n⋅(n−1)⋅(n−2)⋯3⋅2⋅1`\n",
    "\n",
    "a) Definiere eine Funktion `fakultaet(zahl)`, welche die Fakultät von `zahl` berechnet und als Ergebnis zurückgibt.\n",
    "\n",
    "b) Schreibe nun ein kleines Programm, welches zwei natürliche Zahlen einliest und jeweils deren Fakultät berechnet und ausgibt."
   ]
  },
  {
   "cell_type": "code",
   "execution_count": null,
   "metadata": {},
   "outputs": [],
   "source": [
    "# Deine Lösung hier"
   ]
  },
  {
   "cell_type": "markdown",
   "metadata": {},
   "source": [
    "#### 2.\n",
    "Schreibe eine Funktion `quersumme(zahl)`, welche die Quersumme von `zahl` berechnet und zurückgibt."
   ]
  },
  {
   "cell_type": "code",
   "execution_count": null,
   "metadata": {},
   "outputs": [],
   "source": [
    "# Deine Lösung hier"
   ]
  },
  {
   "cell_type": "markdown",
   "metadata": {},
   "source": [
    "#### 3.\n",
    "Schaue dir die folgende Funktion an und überlege, was das Ergebnis sein könnte."
   ]
  },
  {
   "cell_type": "code",
   "execution_count": null,
   "metadata": {},
   "outputs": [],
   "source": [
    "def meine_funktion(a,b):\n",
    "    while b != 0:\n",
    "        t = a%b\n",
    "        a = b\n",
    "        b = t\n",
    "    return a"
   ]
  },
  {
   "cell_type": "markdown",
   "metadata": {},
   "source": [
    "Hast du eine Vermutung? Teste sie an einigen Beispielen:"
   ]
  },
  {
   "cell_type": "code",
   "execution_count": null,
   "metadata": {},
   "outputs": [],
   "source": [
    "meine_funktion(12,16)"
   ]
  },
  {
   "cell_type": "code",
   "execution_count": null,
   "metadata": {},
   "outputs": [],
   "source": [
    "meine_funktion(1,16)"
   ]
  },
  {
   "cell_type": "code",
   "execution_count": null,
   "metadata": {},
   "outputs": [],
   "source": [
    "meine_funktion(8,16)"
   ]
  },
  {
   "cell_type": "code",
   "execution_count": null,
   "metadata": {},
   "outputs": [],
   "source": [
    "meine_funktion(8,21)"
   ]
  },
  {
   "cell_type": "code",
   "execution_count": null,
   "metadata": {},
   "outputs": [],
   "source": [
    "meine_funktion(18,21)"
   ]
  },
  {
   "cell_type": "code",
   "execution_count": null,
   "metadata": {},
   "outputs": [],
   "source": [
    "meine_funktion(27,36)"
   ]
  },
  {
   "cell_type": "markdown",
   "metadata": {},
   "source": [
    "#### 4.\n",
    "Welche der folgenden Definitionen sind zulässig? Welche nicht und wieso? Überlege zuerst und tippe es danach zur Kontrolle ein."
   ]
  },
  {
   "cell_type": "code",
   "execution_count": null,
   "metadata": {},
   "outputs": [],
   "source": [
    "def myprint():\n",
    "    print(\"Hallo Welt\")\n",
    "    \n",
    "myprint()    "
   ]
  },
  {
   "cell_type": "code",
   "execution_count": null,
   "metadata": {},
   "outputs": [],
   "source": [
    "def myprint1()\n",
    "    myprint(\"Hallo Welt\")\n",
    "    \n",
    " myprint1()   "
   ]
  },
  {
   "cell_type": "code",
   "execution_count": null,
   "metadata": {},
   "outputs": [],
   "source": [
    "def myprint1():\n",
    "    print(\"Hallo Welt\")\n",
    "\n",
    "myprint1()    "
   ]
  },
  {
   "cell_type": "code",
   "execution_count": null,
   "metadata": {},
   "outputs": [],
   "source": [
    "def myprint1():\n",
    "print(\"Hallo Welt\")\n",
    "\n",
    "myprint()"
   ]
  },
  {
   "cell_type": "markdown",
   "metadata": {},
   "source": [
    "#### 5.\n",
    "Schreibe zwei Funktionen mit folgender Funktionalität:\n",
    "\n",
    "a) `dez_to_bin(dezzahl)`: Die Funktion wandelt die Dezimalzahl dezzahl in die entsprechende Binärzahl um.\n",
    "\n",
    "##### Exkurs Dualsystem\n",
    "<blockquote>\n",
    "Das Binärsystem (auch Dualsystem genannt) ist ein Zahlensystem, welches zur Darstellung von Zahlen nur zwei verschiedene Ziffern (0 und 1) benutzt. Jede Zahl kann somit nur mit Hilfe von 0 und 1 dargestellt werden. Für mehr Informationen siehe unter\n",
    "\n",
    "http://de.wikipedia.org/wiki/Bin%C3%A4rzahl\n",
    "</blockquote>\n",
    "\n",
    "b) `bin_to_dez(binzahl)`: Die Funktion wandelt die Binärzahl binzahl in die entsprechende Dezimalzahl um.\n",
    "\n",
    "c) Teste deine beiden Funktionen indem du sie mit den von Python zur Verfügung gestellten Funktionen vergleichst (`bin()` und `int()`)"
   ]
  },
  {
   "cell_type": "code",
   "execution_count": null,
   "metadata": {},
   "outputs": [],
   "source": [
    "# Beispiele der \"eingebauten\" Funktionen von Python\n",
    "# Konvertiert eine Dezimalzahl in eine Binärzahl\n",
    "bin(24)\n",
    "# Konvertiert eine Binärzahl in eine Dezimalzahl\n",
    "int('11000',2)"
   ]
  },
  {
   "cell_type": "code",
   "execution_count": null,
   "metadata": {},
   "outputs": [],
   "source": [
    "# Deine Lösung hier"
   ]
  },
  {
   "cell_type": "markdown",
   "metadata": {},
   "source": [
    "## Mehrere Rückgabewerte"
   ]
  },
  {
   "cell_type": "markdown",
   "metadata": {},
   "source": [
    "Bis jetzt haben unsere Funktionen immer nur einen Wert zurückgeben. Mit Python ist es überhaupt kein Problem, auch Funktionen zu definieren, welche mehr als einen Wert zurückgeben. Hier ein Beispiel dazu:"
   ]
  },
  {
   "cell_type": "code",
   "execution_count": null,
   "metadata": {},
   "outputs": [],
   "source": [
    "def add_multiply(zahl1, zahl2):\n",
    "    return zahl1+zahl2, zahl1*zahl2\n",
    "\n",
    "a = add_multiply(4,10)\n",
    "print(a, a[0], a[1])\n",
    "\n",
    "a, b = add_multiply(4,10)\n",
    "print(a, b)"
   ]
  },
  {
   "cell_type": "markdown",
   "metadata": {},
   "source": [
    "Dieses Programm gibt die Summe und das Produkt zweier Zahlen (hier `zahl1` und `zahl2`) zurück."
   ]
  },
  {
   "cell_type": "markdown",
   "metadata": {},
   "source": [
    "Wir sehen bei der Zuweisung in Zeile 4, dass die mehreren Rückgabewerte als Tupel der einen Variable a übergeben werden. Man kann aber auch jeden Rückgabewert einer einzigen Variablen zuweisen, so wie es in Zeile 7 gemacht wurde."
   ]
  },
  {
   "cell_type": "markdown",
   "metadata": {},
   "source": [
    "## lambda-Operator\n",
    "Der `lambda`-Operator bietet eine Möglichkeit anonyme Funktionen, also Funktionen ohne Namen, zu schreiben und zu benutzen. Anstelle des Keywords `def` gebrauchen wir das Keyword `lambda`. Sie können, wie normal definierte Funktionen, eine beliebe Anzahl von Parametern haben, führen Befehle aus und können einen Rückgabewert liefern. Die Syntax sieht folgendermassen aus:"
   ]
  },
  {
   "cell_type": "markdown",
   "metadata": {},
   "source": [
    "`lambda [arg1 [,arg2,.....argn]]:expression`"
   ]
  },
  {
   "cell_type": "markdown",
   "metadata": {},
   "source": [
    "Das nächste Beispiel zeigt den Unterschied zwischen einer normalen Funktion und einer lambda Funktion:"
   ]
  },
  {
   "cell_type": "code",
   "execution_count": null,
   "metadata": {},
   "outputs": [],
   "source": [
    "def f(x): return x**2\n",
    "g = lambda x: x**2\n",
    "\n",
    "print(f(8))\n",
    "print(g(8))"
   ]
  },
  {
   "cell_type": "markdown",
   "metadata": {},
   "source": [
    "Wir sehen, dass die beiden Funktionen `f` und `g` genau das gleiche ausführen und auf die gleiche Weise benutzt werden können. Sie unterscheiden sich hier lediglich in der Definition. Wie aber der Name (anonyme Funktionen) schon sagt, müssen wir einem `lambda`-Ausdruck keinen Namen zuweisen, was wir am folgenden Beispiel gut sehen:"
   ]
  },
  {
   "cell_type": "code",
   "execution_count": null,
   "metadata": {},
   "outputs": [],
   "source": [
    "(lambda x: x**2)(8)"
   ]
  },
  {
   "cell_type": "markdown",
   "metadata": {},
   "source": [
    "Der `lambda`-Operator kann dann gut gebraucht werden, wenn beispielsweise eine Funktion als Argument einer weiteren Funktion übergeben werden soll und man diese erste Funktion nachher nicht mehr braucht. Schauen wir dazu folgendes Beispiel an:"
   ]
  },
  {
   "cell_type": "code",
   "execution_count": null,
   "metadata": {},
   "outputs": [],
   "source": [
    "def temp_funktion(x):\n",
    "    return x + 42\n",
    "\n",
    "def make_list(f,groesse):\n",
    "    ergebnis = []\n",
    "    for i in range(groesse):\n",
    "        ergebnis.append(f(i))\n",
    "    return ergebnis\n",
    "\n",
    "a = make_list(temp_funktion, 5)\n",
    "print(a)"
   ]
  },
  {
   "cell_type": "markdown",
   "metadata": {},
   "source": [
    "Nehmen wir an, dass die Funktion `temp_funktion()` in einem späteren Programmverlauf nie mehr gebraucht wird. So können wir uns die Namensvergabe sparen und ändern denn Code folgendermassen:"
   ]
  },
  {
   "cell_type": "code",
   "execution_count": null,
   "metadata": {},
   "outputs": [],
   "source": [
    "def make_list(f,groesse):\n",
    "    ergebnis = []\n",
    "    for i in range(groesse):\n",
    "        ergebnis.append(f(i))\n",
    "    return ergebnis\n",
    "\n",
    "a = make_list(lambda x: x + 42, 5)\n",
    "print(a)"
   ]
  },
  {
   "cell_type": "markdown",
   "metadata": {},
   "source": [
    "Dieses Programm hat den gleichen Output wie das erste, jedoch mussten wir nicht eine Funktion definieren, welche wir später sowieso nicht gebraucht hätten."
   ]
  },
  {
   "cell_type": "markdown",
   "metadata": {},
   "source": [
    "### Aufgaben\n",
    "\n",
    "#### 1.\n",
    "Welche der folgenden Eingaben sind zulässig? Welche nicht und wieso? Wie müsste es richtig sein? Überlege zuerst und tippe es danach zur Kontrolle ein."
   ]
  },
  {
   "cell_type": "code",
   "execution_count": null,
   "metadata": {},
   "outputs": [],
   "source": [
    "a = lambda arg1, arg2: arg1 + arg2\n",
    "print(a(0,2))"
   ]
  },
  {
   "cell_type": "code",
   "execution_count": null,
   "metadata": {},
   "outputs": [],
   "source": [
    "a = (lambda arg1, arg2: arg1 + arg2)(0,2)\n",
    "print(a(0,2))"
   ]
  },
  {
   "cell_type": "code",
   "execution_count": null,
   "metadata": {},
   "outputs": [],
   "source": [
    "a = lambda arg1, arg2: arg1 + arg2\n",
    "print(a(2+2))"
   ]
  },
  {
   "cell_type": "code",
   "execution_count": null,
   "metadata": {},
   "outputs": [],
   "source": [
    "a = lambda arg1, arg2: arg1 + arg2\n",
    "b = lambda x: a(2, x)\n",
    "print(b(3,4))"
   ]
  },
  {
   "cell_type": "markdown",
   "metadata": {},
   "source": [
    "#### 2.\n",
    "Gegeben ist folgendes Programm:"
   ]
  },
  {
   "cell_type": "code",
   "execution_count": null,
   "metadata": {},
   "outputs": [],
   "source": [
    "def f2(d):\n",
    "    return 2**d\n",
    "\n",
    "def f3(d):\n",
    "    return 3**d\n",
    "\n",
    "def f5(d):\n",
    "    return 5**d\n",
    "\n",
    "def f7(d):\n",
    "    return 7**d\n",
    "\n",
    "def add_function(f,g):\n",
    "    return f(2) + g(2)\n",
    "\n",
    "print(add_function(f2, f3))\n",
    "print(add_function(f5, f7))"
   ]
  },
  {
   "cell_type": "markdown",
   "metadata": {},
   "source": [
    "Schreibe das Programm mit dem `lambda`-Operator so um, dass die Zeilen 1-12 weggelassen werden können, jedoch der gleiche Output produziert wird."
   ]
  },
  {
   "cell_type": "code",
   "execution_count": null,
   "metadata": {},
   "outputs": [],
   "source": []
  }
 ],
 "metadata": {
  "kernelspec": {
   "display_name": "Python 3",
   "language": "python",
   "name": "python3"
  }
 },
 "nbformat": 4,
 "nbformat_minor": 2
}
