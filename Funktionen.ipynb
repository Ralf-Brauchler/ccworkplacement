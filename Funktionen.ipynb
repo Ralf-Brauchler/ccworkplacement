{
 "cells": [
  {
   "cell_type": "markdown",
   "metadata": {},
   "source": [
    "# Funktionen"
   ]
  },
  {
   "cell_type": "markdown",
   "metadata": {},
   "source": [
    "In den vorherigen Kapiteln haben wir immer wieder auf Funktionen zurückgegriffen, welche uns von Python zur Verfügung gestellt wurden. Wenn du beispielsweise den Befehl `len(\"Haus\")` eingibst, bekommen wir von der Funktion `len()` den Rückgabewert `4` zurück. Dieser Wert ändert sich natürlich, wenn ein anderes Argument als \"Haus\" der Funktion übergeben wird.\n",
    "\n",
    "In diesem Kapitel besprechen wir, wie man selber solche Funktionen definieren kann. Es gibt verschiedene Gründe, warum es Sinn macht Funktionen zu definieren.\n",
    "\n",
    "1. Mehrer hintereinander ausgeführte Anweisungen können unter einem Namen zusammengefasst werden. Es kann also als Strukturierungselement angesehen werden, das eine Menge von Anweisungen gruppiert.\n",
    "\n",
    "2. Ein längeres Programm erhält durch Funktionen eine Struktur, welche helfen kann, den Code besser lesen und verstehen zu können.\n",
    "\n",
    "3. Ein Funktionsname kann dabei helfen zu verstehen, was das Unterprogramm berechnet oder ausführt.\n",
    "\n",
    "4. Muss eine Codesequenz mehr als einmal ausgeführt werden, so braucht man nur den Funktionsnamen aufzurufen (Vermeidung von Codeduplizität).\n",
    "\n",
    "\n",
    "Betrachten wir das folgende Beispiel:"
   ]
  },
  {
   "cell_type": "code",
   "execution_count": 1,
   "metadata": {},
   "outputs": [
    {
     "name": "stdout",
     "output_type": "stream",
     "text": [
      "Gib eine positive ganze Zahl an: 4\n",
      "Das Ergebnis lautet 55.5.\n"
     ]
    }
   ],
   "source": [
    "from random import randint\n",
    "\n",
    "eingabe = int(input(\"Gib eine positive ganze Zahl an: \"))\n",
    "\n",
    "liste = []\n",
    "for i in range(eingabe):\n",
    "    liste.append(randint(0,100))\n",
    "\n",
    "result = 0\n",
    "for i in range(eingabe):\n",
    "    result = result + liste[i]\n",
    "    \n",
    "result = result / len(liste)\n",
    "\n",
    "print(\"Das Ergebnis lautet \" + str(result) + \".\")"
   ]
  },
  {
   "cell_type": "markdown",
   "metadata": {},
   "source": [
    "Es benötigt eine Weile um zu verstehen, was das Programm genau macht. Bei genauerem Hinsehen sieht man, dass die paar Codezeilen aus zwei Hauptteilen besteht: Zuerst wird eine zufällig, ganzzahlige Liste erstellt und danach deren arithmetischen Mittelwert berechnet.\n",
    "\n",
    "Lagern wir diese zwei Hauptteile in Funktionen mit geeigneten Namen aus, so wird das Programm verständlicher zu lesen sein, ohne sich um programmtechnische Details kümmern zu müssen:"
   ]
  },
  {
   "cell_type": "code",
   "execution_count": 2,
   "metadata": {},
   "outputs": [
    {
     "name": "stdout",
     "output_type": "stream",
     "text": [
      "Gib eine positive ganze Zahl an: 44\n",
      "Das Ergebnis lautet 47.88636363636363.\n"
     ]
    }
   ],
   "source": [
    "from random import randint\n",
    "\n",
    "def zufallsliste_erstellen(eine_zahl):\n",
    "    liste = []\n",
    "    for i in range(eine_zahl):\n",
    "        liste.append(randint(0,100))\n",
    "    return liste\n",
    "\n",
    "def berechne_mittelwert(eine_liste):\n",
    "    result = 0\n",
    "    for i in range(len(eine_liste)):\n",
    "        result = result + eine_liste[i]\n",
    "\n",
    "    result = result / len(eine_liste)\n",
    "\n",
    "    print(\"Das Ergebnis lautet \" + str(result) + \".\")\n",
    "\n",
    "# Hauptprogramm\n",
    "eingabe = int(input(\"Gib eine positive ganze Zahl an: \"))\n",
    "zufallsliste = zufallsliste_erstellen(eingabe)\n",
    "berechne_mittelwert(zufallsliste)"
   ]
  },
  {
   "cell_type": "markdown",
   "metadata": {},
   "source": [
    "Das Programm besteht nun wesentlich aus den Zeilen 19-21. Nur das Lesen dieser 3 Zeilen reicht aus, um zu verstehen, was das gesamte Programm macht. Die Anweisungen für das Erstellen einer Zufallsliste und die Berechnung des arithmetischen Mittelwertes wurden in Funktionen ausgelagert (siehe Zeile 1-17).\n",
    "\n",
    "Zusätzlich stehen die Möglichkeiten der beiden Funktionen zu jedem beliebigen Zeitpunkt später im Programm wieder zur Verfügung. D.h. alleine durch den Funktionsaufruf `zufallsliste_erstellen()` kann jederzeit im Programm wieder eine Zufallsliste erstellt werden, ohne die ganzen Anweisungen nochmals aufschreiben zu müssen.\n",
    "\n",
    "Betrachten wir nun im Detail, wie Funktionen in Python erstellt werden können."
   ]
  },
  {
   "cell_type": "markdown",
   "metadata": {},
   "source": [
    "## Eine Funktion ohne Rückgabewert definieren"
   ]
  },
  {
   "cell_type": "markdown",
   "metadata": {},
   "source": [
    "Mit dem Keyword `def` führen wir eine neue Funktion ein. Nach der Anweisung `def` steht der Name der Funktion, gefolgt von runden Klammern `()`. In der Klammer `()` werden die Argumente, falls welche verlangt, aufgelistet. Zum Schluss kommt noch der obligate Doppelpunkt `:`. Die darauffolgende Zeilen müssen wie üblich eingerückt sein, ansonsten gehören sie nicht mehr zur Funktion.\n",
    "\n",
    "Hier ein Beispiel einer Funktion, welche eine Zahl als Übergabeparameter erwartet. Die Funktion selber multipliziert die Eingabe mit 2 und gibt das Resultat auf der Konsole wieder aus."
   ]
  },
  {
   "cell_type": "code",
   "execution_count": 3,
   "metadata": {},
   "outputs": [
    {
     "name": "stdout",
     "output_type": "stream",
     "text": [
      "Gib eine ganze Zahl ein: 33\n",
      "Verdopple ich diese Zahl, so erhalte ich  66\n",
      "Gib eine weitere ganze Zahl ein: 12\n",
      "Verdopple ich diese Zahl, so erhalte ich  24\n",
      "Danke für die Eingabe.\n"
     ]
    }
   ],
   "source": [
    "def mit_zwei_multiplizieren(eingabe):\n",
    "    eingabe = 2*eingabe\n",
    "    print(\"Verdopple ich diese Zahl, so erhalte ich \",eingabe)\n",
    "\n",
    "\n",
    "zahl = int(input(\"Gib eine ganze Zahl ein: \"))\n",
    "mit_zwei_multiplizieren(zahl)\n",
    "zahl = int(input(\"Gib eine weitere ganze Zahl ein: \"))\n",
    "mit_zwei_multiplizieren(zahl)\n",
    "\n",
    "print(\"Danke für die Eingabe.\")"
   ]
  },
  {
   "cell_type": "markdown",
   "metadata": {},
   "source": [
    "Jedes Mal wenn im Programm die Funktion `mit_zwei_multiplizieren()` aufgerufen wird, wird der Codeblock bei der Definition der Funktion (in unserem Beispiel Zeile 2 und 3) ausgeführt.\n",
    "\n",
    "Natürlich können der Funktion auch mehr als nur ein Argument übergeben werden."
   ]
  },
  {
   "cell_type": "code",
   "execution_count": 8,
   "metadata": {},
   "outputs": [],
   "source": [
    "# Eingabe: Längen des Rechtecks\n",
    "# Ausgabe in der Konsole: Fläche des Rechtecks\n",
    "def flaeche_rechteck(a,b):\n",
    "    print(\"Die Fläche des Rechtecks ist \"+str(a*b)+\".\")"
   ]
  },
  {
   "cell_type": "markdown",
   "metadata": {},
   "source": [
    "Eine mögliche Ausgabe könnte dann folgendermassen aussehen:"
   ]
  },
  {
   "cell_type": "code",
   "execution_count": 10,
   "metadata": {},
   "outputs": [
    {
     "name": "stdout",
     "output_type": "stream",
     "text": [
      "Die Fläche des Rechtecks ist 21.\n",
      "Die Fläche des Rechtecks ist 11.729999999999999.\n"
     ]
    }
   ],
   "source": [
    "flaeche_rechteck(3,7)\n",
    "flaeche_rechteck(2.3,5.1)"
   ]
  },
  {
   "cell_type": "markdown",
   "metadata": {},
   "source": [
    "### Aufgaben"
   ]
  },
  {
   "cell_type": "markdown",
   "metadata": {},
   "source": [
    "1. Erstelle eine Funktion, welche einen String als Argument erwartet und den ersten und letzten Buchstaben des Strings ausgibt.\n",
    "2. Schreibe eine Funktion `summe()`, welche für die Eingabe einer Zahl `n` folgendes Resultat ausgibt:\n",
    "\n",
    "`summe:=1+2+⋯+n`\n",
    "\n",
    "Es sollte dann z.B. folgendermassen aussehen`\n",
    "\n",
    "```\n",
    "summe(4)\n",
    "10\n",
    "summe(100)\n",
    "5050\n",
    "```\n",
    "\n",
    "3. Definiere eine Funktion teilermenge(zahl), welche die Menge der Teiler von zahl ausgibt. Zum Beispiel:\n",
    "\n",
    "```\n",
    ">>> teilermenge(24)\n",
    "[1, 2, 3, 4, 6, 8, 12, 24]\n",
    "```"
   ]
  },
  {
   "cell_type": "markdown",
   "metadata": {},
   "source": [
    "## Eine Funktion mit Rückgabewert definieren"
   ]
  },
  {
   "cell_type": "markdown",
   "metadata": {},
   "source": [
    "Unsere selbst geschriebenen Funktionen von oben haben bisher die Resultate lediglich auf der Konsole ausgegeben. Jedoch kann es sein, dass die Ergebnisse für den weiteren Programmverlauf gebraucht und weiter verarbeitet werden müssen. In solchen Fällen macht es Sinn Funktionen zu definieren, welche mir ein Ergebnis zurückgeben, wie z.B."
   ]
  },
  {
   "cell_type": "code",
   "execution_count": 12,
   "metadata": {},
   "outputs": [
    {
     "data": {
      "text/plain": [
       "4"
      ]
     },
     "execution_count": 12,
     "metadata": {},
     "output_type": "execute_result"
    }
   ],
   "source": [
    "len(\"Haus\")"
   ]
  },
  {
   "cell_type": "markdown",
   "metadata": {},
   "source": [
    "Nehmen wir das gleiche Beispiel von oben:"
   ]
  },
  {
   "cell_type": "code",
   "execution_count": 13,
   "metadata": {},
   "outputs": [],
   "source": [
    "# Eingabe: Längen des Rechtecks\n",
    "# Ausgabe in der Konsole: Fläche des Rechtecks\n",
    "def flaeche_rechteck(a,b):\n",
    "    print(\"Die Fläche des Rechtecks ist \"+str(a*b)+\".\")"
   ]
  },
  {
   "cell_type": "markdown",
   "metadata": {},
   "source": [
    "Diese Funktion gibt auf der Konsole die Fläche des Rechtecks mit Längen `a` und `b` aus. Möchte man das Ergebnis nicht ausgeben, sondern z.B. für eine Weiterverarbeitung zurückgeben, so kann dies mit der `return` Anweisung gemacht werden:"
   ]
  },
  {
   "cell_type": "code",
   "execution_count": 14,
   "metadata": {},
   "outputs": [],
   "source": [
    "def flaeche_rechteck(a,b):\n",
    "    return a*b"
   ]
  },
  {
   "cell_type": "markdown",
   "metadata": {},
   "source": [
    "Nun kann das Ergebnis der Funktion flaeche_rechteck() in einer Variable gespeichert und weiter verwendet werden."
   ]
  },
  {
   "cell_type": "code",
   "execution_count": 15,
   "metadata": {},
   "outputs": [
    {
     "data": {
      "text/plain": [
       "10"
      ]
     },
     "execution_count": 15,
     "metadata": {},
     "output_type": "execute_result"
    }
   ],
   "source": [
    "a = flaeche_rechteck(2,5)\n",
    "a"
   ]
  },
  {
   "cell_type": "markdown",
   "metadata": {},
   "source": [
    "#### Bemerkung\n",
    "Eine Funktion mit einem return Statement kommt dem Konzept einer Funktion im Sinne der Mathematik sehr nahe:\n",
    "\n",
    "`y=f(x)`\n",
    "\n",
    "wobei\n",
    "\n",
    "`f:Funktionsname`\n",
    "\n",
    "`x:Argument`\n",
    "\n",
    "`y:Rückgabewert`\n",
    "\n",
    "Mehr zum Thema Funktionen findest du in der Dokumentation unter\n",
    "\n",
    "https://docs.python.org/3.2/tutorial/controlflow.html#defining-functions"
   ]
  },
  {
   "cell_type": "markdown",
   "metadata": {},
   "source": [
    "### Aufgaben"
   ]
  },
  {
   "cell_type": "markdown",
   "metadata": {},
   "source": [
    "1. In den vorherigen Kapiteln hast du die Fakultät in den Aufgaben bereits kennengelernt.\n",
    "\n",
    "`n!:=n⋅(n−1)⋅(n−2)⋯3⋅2⋅1`\n",
    "\n",
    "a) Definiere eine Funktion `fakultaet(zahl)`, welche die Fakultät von `zahl` berechnet und als Ergebnis zurückgibt.\n",
    "\n",
    "b) Schreibe nun ein kleines Programm, welches zwei natürliche Zahlen einliest und jeweils deren Fakultät berechnet und ausgibt.\n",
    "\n",
    "2. Schreibe eine Funktion `quersumme(zahl)`, welche die Quersumme von `zahl` berechnet und zurückgibt.\n",
    "\n",
    "Schaue dir die folgende Funktion an und überlege, was das Ergebnis sein könnte."
   ]
  },
  {
   "cell_type": "code",
   "execution_count": null,
   "metadata": {},
   "outputs": [],
   "source": []
  }
 ],
 "metadata": {
  "kernelspec": {
   "display_name": "Python 3",
   "language": "python",
   "name": "python3"
  },
  "language_info": {
   "codemirror_mode": {
    "name": "ipython",
    "version": 3
   },
   "file_extension": ".py",
   "mimetype": "text/x-python",
   "name": "python",
   "nbconvert_exporter": "python",
   "pygments_lexer": "ipython3",
   "version": "3.6.6"
  }
 },
 "nbformat": 4,
 "nbformat_minor": 2
}
