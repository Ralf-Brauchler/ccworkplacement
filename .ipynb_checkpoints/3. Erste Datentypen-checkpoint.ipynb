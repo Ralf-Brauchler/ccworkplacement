{
 "cells": [
  {
   "cell_type": "markdown",
   "metadata": {},
   "source": [
    "# Erste Datentypen"
   ]
  },
  {
   "cell_type": "markdown",
   "metadata": {},
   "source": [
    "## Zahlen"
   ]
  },
  {
   "cell_type": "markdown",
   "metadata": {},
   "source": [
    "Python kann verschiedene Arten von Zahlen darstellen und speichern. Wir werden uns hier auf die Zahlen beschränken, welche in der Programmierung oft benutzt werden. Dies sind ganze Zahlen und Fließkommazahlen. Python kann auch mit Brüchen, komplexen Zahlen oder Dezimalzahlen mit einer festen Anzahl Dezimalstellen rechnen. Diese werden wir aber hier nicht genauer anschauen.\n",
    "\n",
    "- **Integer: Ganze Zahlen**\n",
    "    \n",
    "    Ganze Zahlen sind sowohl negative als auch positive Zahlen ohne Nachkommastellen. Mit diesen kann Python sehr gut umgehen. Im Gegensatz zu anderen Programmiersprachen sind sie in der Grösse nicht eingeschränkt. Ihr könnt beliebig grosse ganze Zahlen speichern. Dies ist natürlich nur theoretisch korrekt. Der Arbeitspeicher deines Computers ist beschränkt. Das heisst, wenn dieser voll ist, kann die Zahl nicht mehr grösser werden. Aber um den Arbeitspreicher heutiger Rechner zu füllen, braucht es unvorstellbar grosse Zahlen.\n",
    "\n",
    "\n",
    "- **Float : Fließkommazahlen**\n",
    "    \n",
    "    Fließkommazahlen gibt es in den meisten Programmiersprachen. Sie werden benutzt, um Dezimalzahlen zu speichern. Die Arbeit mit Fließkommazahlen bietet aber auch einiges an Stolpersteinen. Vor allem wenn die Zahlen betragsmäßig sehr groß werden oder sehr nahe bei 0 liegen, kann es Probleme mit der Genauigkeit geben - wie wir weiter unten selbst beobachten werden.\n",
    "    \n",
    "Die folgenden Zahlen sind in Python alle zulässig. Sobald ein Punkt, ein `e` oder ein `E` vorkommt werden sie als Fliesskommazahl interpretiert:"
   ]
  },
  {
   "cell_type": "code",
   "execution_count": 2,
   "metadata": {},
   "outputs": [
    {
     "name": "stdout",
     "output_type": "stream",
     "text": [
      "0\n"
     ]
    },
    {
     "data": {
      "text/plain": [
       "120000.0"
      ]
     },
     "execution_count": 2,
     "metadata": {},
     "output_type": "execute_result"
    }
   ],
   "source": [
    "# Ganze Zahlen (Integer)\n",
    "0\n",
    "12\n",
    "1220200399948882888338278\n",
    "-5\n",
    "-11692013098647223345629478661730264157247460343808\n",
    "\n",
    "# Fliesskommazahlen (Float)\n",
    "0.0\n",
    "23.0\n",
    "0.234\n",
    "-1e-1\n",
    "12E4"
   ]
  },
  {
   "cell_type": "markdown",
   "metadata": {},
   "source": [
    "Eine kurze Erklärung braucht der Buchstabe `e` oder `E`. Beide Schreibweisen stehen für das gleiche und sind dir vielleicht schon vom Taschenrechner bekannt. Es handelt sich dabei um die wissenschaftliche Schreibweise von Zahlen mit Zehnerpotenzen. So steht zum Beispiel 1.2E4 für 1.2⋅10^4 oder -1e-1 für −1⋅10−1."
   ]
  },
  {
   "cell_type": "markdown",
   "metadata": {},
   "source": [
    "> **Siehe auch:** Das Modul `fractions` unterstützt auch Bruchrechnen. Falls man präzise und ausschließlich mit rationalen Zahlen rechnet, können damit die Probleme der Fließkommazahlen umgangen werden. Das Modul `decimal` kann zum präziseren - jedoch langsameren - Rechnen mit Dezimalzahlen benutzt werden."
   ]
  },
  {
   "cell_type": "markdown",
   "metadata": {},
   "source": [
    "### Aufgaben"
   ]
  },
  {
   "cell_type": "markdown",
   "metadata": {},
   "source": [
    "1. Probiee die nachfolgenden Operatoren mit verschiedenen Zahlen aus und notiere dir, was sie tun. Setze für `x` und `y` verschiedene Zahlen ein, bis du herausgefunden hast, was die Operatoren tun."
   ]
  },
  {
   "cell_type": "code",
   "execution_count": 3,
   "metadata": {},
   "outputs": [
    {
     "ename": "NameError",
     "evalue": "name 'x' is not defined",
     "output_type": "error",
     "traceback": [
      "\u001b[0;31m---------------------------------------------------------------------------\u001b[0m",
      "\u001b[0;31mNameError\u001b[0m                                 Traceback (most recent call last)",
      "\u001b[0;32m<ipython-input-3-cd60f97aa77f>\u001b[0m in \u001b[0;36m<module>\u001b[0;34m\u001b[0m\n\u001b[0;32m----> 1\u001b[0;31m \u001b[0mx\u001b[0m \u001b[0;34m+\u001b[0m \u001b[0my\u001b[0m\u001b[0;34m\u001b[0m\u001b[0m\n\u001b[0m",
      "\u001b[0;31mNameError\u001b[0m: name 'x' is not defined"
     ]
    }
   ],
   "source": [
    "x + y"
   ]
  },
  {
   "cell_type": "code",
   "execution_count": 4,
   "metadata": {},
   "outputs": [
    {
     "ename": "NameError",
     "evalue": "name 'x' is not defined",
     "output_type": "error",
     "traceback": [
      "\u001b[0;31m---------------------------------------------------------------------------\u001b[0m",
      "\u001b[0;31mNameError\u001b[0m                                 Traceback (most recent call last)",
      "\u001b[0;32m<ipython-input-4-86286c876b5e>\u001b[0m in \u001b[0;36m<module>\u001b[0;34m\u001b[0m\n\u001b[0;32m----> 1\u001b[0;31m \u001b[0mx\u001b[0m \u001b[0;34m-\u001b[0m \u001b[0my\u001b[0m\u001b[0;34m\u001b[0m\u001b[0m\n\u001b[0m",
      "\u001b[0;31mNameError\u001b[0m: name 'x' is not defined"
     ]
    }
   ],
   "source": [
    "x - y"
   ]
  },
  {
   "cell_type": "code",
   "execution_count": null,
   "metadata": {},
   "outputs": [],
   "source": [
    "x % y"
   ]
  },
  {
   "cell_type": "code",
   "execution_count": null,
   "metadata": {},
   "outputs": [],
   "source": [
    "-x"
   ]
  },
  {
   "cell_type": "code",
   "execution_count": null,
   "metadata": {},
   "outputs": [],
   "source": [
    "x * y"
   ]
  },
  {
   "cell_type": "code",
   "execution_count": null,
   "metadata": {},
   "outputs": [],
   "source": [
    "x / y"
   ]
  },
  {
   "cell_type": "code",
   "execution_count": null,
   "metadata": {},
   "outputs": [],
   "source": [
    "x**y"
   ]
  },
  {
   "cell_type": "code",
   "execution_count": null,
   "metadata": {},
   "outputs": [],
   "source": [
    "x // y"
   ]
  },
  {
   "cell_type": "markdown",
   "metadata": {},
   "source": [
    "2. Was gibt das unten stehende Programm aus? Gehe es zuerst im Kopf durch und probiere es anschließen aus."
   ]
  },
  {
   "cell_type": "code",
   "execution_count": 5,
   "metadata": {},
   "outputs": [
    {
     "name": "stdout",
     "output_type": "stream",
     "text": [
      "5\n",
      "5\n",
      "5\n"
     ]
    }
   ],
   "source": [
    "x = 2\n",
    "y = 3\n",
    "z = x + y\n",
    "x = z\n",
    "y = x\n",
    "print(x)\n",
    "print(y)\n",
    "print(z)"
   ]
  },
  {
   "cell_type": "markdown",
   "metadata": {},
   "source": [
    "3. Probiere die folgenden Rechnungen aus. Welches Ergebis erwartest du? Woran liegt es, dass du nicht das erwartete Ergebnis erhältst?"
   ]
  },
  {
   "cell_type": "code",
   "execution_count": 6,
   "metadata": {},
   "outputs": [
    {
     "data": {
      "text/plain": [
       "5.551115123125783e-17"
      ]
     },
     "execution_count": 6,
     "metadata": {},
     "output_type": "execute_result"
    }
   ],
   "source": [
    "0.1 + 0.1 + 0.1 - 0.3"
   ]
  },
  {
   "cell_type": "code",
   "execution_count": 7,
   "metadata": {},
   "outputs": [
    {
     "data": {
      "text/plain": [
       "5"
      ]
     },
     "execution_count": 7,
     "metadata": {},
     "output_type": "execute_result"
    }
   ],
   "source": [
    "5 + 10**40 - 10**40"
   ]
  },
  {
   "cell_type": "code",
   "execution_count": 8,
   "metadata": {},
   "outputs": [
    {
     "data": {
      "text/plain": [
       "0.0"
      ]
     },
     "execution_count": 8,
     "metadata": {},
     "output_type": "execute_result"
    }
   ],
   "source": [
    "5.0 + 10**40 - 10**40"
   ]
  },
  {
   "cell_type": "markdown",
   "metadata": {},
   "source": [
    "WEITERE AUFGABEN"
   ]
  },
  {
   "cell_type": "markdown",
   "metadata": {},
   "source": [
    "## Zeichenketten"
   ]
  },
  {
   "cell_type": "markdown",
   "metadata": {},
   "source": [
    "Beim Programmieren möchte man nicht nur mit Zahlen arbeiten. Man möchte auch Text abspeichern können, um dem Benutzer etwas mitzuteilen oder um den Text zu verarbeiten.\n",
    "\n",
    "Diesen Datentyp nennt man Zeichenketten oder auf englisch String. Er wird so genannt, weil wir nicht nur Text darin abspeichern können, sondern beliebige Zeichen wie Satzzeichen oder Zahlen. Sogar Leerschläge, Tabulatoren und Zeilenumbrüche werden vom Computer als Zeichen behandelt.\n",
    "\n",
    "Wir haben zwei Möglichkeiten Zeichenketten in Python darzustellen. So kann der String „Hallo Welt“ wie folgt dargestellt und z.B. in einer Variable abgespeichert werden:"
   ]
  },
  {
   "cell_type": "code",
   "execution_count": 9,
   "metadata": {},
   "outputs": [
    {
     "data": {
      "text/plain": [
       "'Hallo Welt'"
      ]
     },
     "execution_count": 9,
     "metadata": {},
     "output_type": "execute_result"
    }
   ],
   "source": [
    "'Hallo Welt'\n",
    "\"Hallo Welt\""
   ]
  },
  {
   "cell_type": "markdown",
   "metadata": {},
   "source": [
    "Dies dient dazu, dass auch ein String, welcher `'` oder `\"` enthält, ausgedrückt werden kann:"
   ]
  },
  {
   "cell_type": "code",
   "execution_count": 10,
   "metadata": {},
   "outputs": [
    {
     "data": {
      "text/plain": [
       "'Eine Zeichenkette, welche \"Anführungszeichen\" enthält'"
      ]
     },
     "execution_count": 10,
     "metadata": {},
     "output_type": "execute_result"
    }
   ],
   "source": [
    "'Eine Zeichenkette, welche \"Anführungszeichen\" enthält'"
   ]
  },
  {
   "cell_type": "markdown",
   "metadata": {},
   "source": [
    "Teilweise haben wir Zeichenketten, welche auch Zahlen darstellen können. So ist zum Beispiel `'2.73'` eine Fliesskommazahl oder `'42'` eine ganze Zahl. Python kann damit jedoch nicht rechnen, da alles zwischen Anführungs- und Schlusszeichen nur als Abfolge von Zeichen interpretiert wird.\n",
    "\n",
    "In diesem Fall müssen wir die Zeichenketten in Zahlen konvertieren. Dies geschieht mit dem `float()` Befehl für Fließkommazahlen respektive mit dem `int()` Befehl für Integer."
   ]
  },
  {
   "cell_type": "code",
   "execution_count": 11,
   "metadata": {},
   "outputs": [
    {
     "data": {
      "text/plain": [
       "42"
      ]
     },
     "execution_count": 11,
     "metadata": {},
     "output_type": "execute_result"
    }
   ],
   "source": [
    "int('42') # Dies gibt die Zahl ohne Anführungszeichen zurück"
   ]
  },
  {
   "cell_type": "code",
   "execution_count": 12,
   "metadata": {},
   "outputs": [
    {
     "data": {
      "text/plain": [
       "23.22"
      ]
     },
     "execution_count": 12,
     "metadata": {},
     "output_type": "execute_result"
    }
   ],
   "source": [
    "float('23.22') # Dies gibt eine Fließkommazahl zurück"
   ]
  },
  {
   "cell_type": "markdown",
   "metadata": {},
   "source": [
    "Haben wir hingegen eine Zahl, können wir mit dem Befehl `str()` daraus eine Zeichenkette machen. Dies funktioniert unabhängig davon, ob es sich um eine ganze Zahl oder eine Fließkommazahl handelt."
   ]
  },
  {
   "cell_type": "code",
   "execution_count": 13,
   "metadata": {},
   "outputs": [
    {
     "data": {
      "text/plain": [
       "'7'"
      ]
     },
     "execution_count": 13,
     "metadata": {},
     "output_type": "execute_result"
    }
   ],
   "source": [
    "str(7)"
   ]
  },
  {
   "cell_type": "code",
   "execution_count": 14,
   "metadata": {},
   "outputs": [
    {
     "data": {
      "text/plain": [
       "'2.5'"
      ]
     },
     "execution_count": 14,
     "metadata": {},
     "output_type": "execute_result"
    }
   ],
   "source": [
    "str(2.5)"
   ]
  },
  {
   "cell_type": "markdown",
   "metadata": {},
   "source": [
    "### Aufgaben"
   ]
  },
  {
   "cell_type": "code",
   "execution_count": null,
   "metadata": {},
   "outputs": [],
   "source": [
    "TODO"
   ]
  },
  {
   "cell_type": "markdown",
   "metadata": {},
   "source": [
    "## Listen"
   ]
  },
  {
   "cell_type": "markdown",
   "metadata": {},
   "source": [
    "Oft reichen Integer, Float und String Datentypen nicht aus, um die notwendigen Daten zu speichern. Meist wissen wir nämlich im Voraus nicht, wie viele Datensätze gespeichert werden sollen. Wenn du dich an die Aufgabe zur Berechnung der Noten zurückerinnerst, sind wir davon ausgegangen, dass du im Semester vier grosse Prüfungen hast. Dies ist aber natürlich von Fach zu Fach verschieden, und es wäre vorteilhaft, wenn unser Programm eine im Voraus unbekannte Anzahl Noten speichern könnte.\n",
    "\n",
    "Python bietet für solche Problemstellungen verschiedene Datentypen. Die einfachste Struktur sind die Listen, welche wir in diesem Kapitel genauer anschauen wollen. Weiter gibt es noch Key-Value Speicher, welche in Python „Dictionaries“ heißen. Oder auch Mengen und Tupel im mathematischen Sinn.\n",
    "\n",
    "In Python können in einer Liste beliebige Datentypen gemischt gespeichert werden - es können sogar Listen in Listen gespeichert werden. Eine Liste beginnt mit einer geöffneten, eckigen Klammer `[`. Anschliessend werden die Elemente mit Kommas getrennt aufgelistet. Am Schluss wird die Liste wieder mit `]` geschlossen.\n",
    "\n",
    "Dies ist ein Beispiel einer Liste:"
   ]
  },
  {
   "cell_type": "code",
   "execution_count": 20,
   "metadata": {},
   "outputs": [
    {
     "data": {
      "text/plain": [
       "[3, 'King Arthur', ['Rabbit', 3.4], 2.44]"
      ]
     },
     "execution_count": 20,
     "metadata": {},
     "output_type": "execute_result"
    }
   ],
   "source": [
    "liste = [3, 'King Arthur', ['Rabbit', 3.4], 2.44]\n",
    "liste"
   ]
  },
  {
   "cell_type": "markdown",
   "metadata": {},
   "source": [
    "Auf die einzelnen Elemente der Liste kann anschliessend genau wie bei Zeichenketten über die Nummer des Elements in eckigen Klammern zugegriffen werden. Die Elemente werden auch hier, wie bei den Strings, ab 0 nummeriert."
   ]
  },
  {
   "cell_type": "code",
   "execution_count": 21,
   "metadata": {},
   "outputs": [
    {
     "data": {
      "text/plain": [
       "3"
      ]
     },
     "execution_count": 21,
     "metadata": {},
     "output_type": "execute_result"
    }
   ],
   "source": [
    "liste[0]"
   ]
  },
  {
   "cell_type": "code",
   "execution_count": 22,
   "metadata": {},
   "outputs": [
    {
     "data": {
      "text/plain": [
       "'King Arthur'"
      ]
     },
     "execution_count": 22,
     "metadata": {},
     "output_type": "execute_result"
    }
   ],
   "source": [
    "liste[1]"
   ]
  },
  {
   "cell_type": "code",
   "execution_count": 23,
   "metadata": {},
   "outputs": [
    {
     "data": {
      "text/plain": [
       "['Rabbit', 3.4]"
      ]
     },
     "execution_count": 23,
     "metadata": {},
     "output_type": "execute_result"
    }
   ],
   "source": [
    "liste[2]"
   ]
  },
  {
   "cell_type": "markdown",
   "metadata": {},
   "source": [
    "Falls wir Listen geschachtelt haben - also als Element einer Liste wieder eine Liste gespeichert, können wir mehrere eckige Klammern hintereinander setzen, um auf die einzelnen Elemente zuzugreifen.\n",
    "\n",
    "Im obigen Beispiel ist an der Stelle 2 eine Liste gespeichert. Um auf die Elemente zuzugreifen, müssen wir in den ersten eckigen Klammern angeben, dass wir die Liste an Stelle 2 meinen und in den zweiten eckigen Klammern geben wir dann an, welches Element in der Unterliste wir herausholen möchten:\n",
    "\n"
   ]
  },
  {
   "cell_type": "code",
   "execution_count": 24,
   "metadata": {},
   "outputs": [
    {
     "data": {
      "text/plain": [
       "'Rabbit'"
      ]
     },
     "execution_count": 24,
     "metadata": {},
     "output_type": "execute_result"
    }
   ],
   "source": [
    "liste[2][0]"
   ]
  },
  {
   "cell_type": "code",
   "execution_count": 25,
   "metadata": {},
   "outputs": [
    {
     "data": {
      "text/plain": [
       "3.4"
      ]
     },
     "execution_count": 25,
     "metadata": {},
     "output_type": "execute_result"
    }
   ],
   "source": [
    "liste[2][1]"
   ]
  },
  {
   "cell_type": "markdown",
   "metadata": {},
   "source": [
    "Die eckigen Klammern können auch benutzt werden, um einen Wert in einer Liste zu überschreiben. Wir benutzen den Ausdruck, welcher auf ein Element zugreift (z.B. `liste[1]`) genau wie eine Variable, unter der wir mit `=` einen Wert speichern:"
   ]
  },
  {
   "cell_type": "code",
   "execution_count": 28,
   "metadata": {},
   "outputs": [
    {
     "name": "stdout",
     "output_type": "stream",
     "text": [
      "[3, 'King Arthur', ['Rabbit', 3.4], 2.44]\n",
      "[11, 'King Arthur', ['Rabbit', 3.4], 2.44]\n"
     ]
    }
   ],
   "source": [
    "print(liste)\n",
    "liste[0] = 11\n",
    "print(liste)"
   ]
  },
  {
   "cell_type": "markdown",
   "metadata": {},
   "source": [
    "Wie bei anderen Datentypen haben Listen in Python viele nützliche Methoden. In den Aufgaben unten findest du wiederum eine Aufgabe, bei der du solche Methoden ausprobieren kannst.\n",
    "\n",
    "Eine vollständige Auflistung findest du auch in der Dokumentation unter http://docs.python.org/3/tutorial/datastructures.html#more-on-lists\n",
    "\n"
   ]
  },
  {
   "cell_type": "markdown",
   "metadata": {},
   "source": [
    "### Aufgaben"
   ]
  },
  {
   "cell_type": "code",
   "execution_count": null,
   "metadata": {},
   "outputs": [],
   "source": [
    "TODO"
   ]
  }
 ],
 "metadata": {
  "kernelspec": {
   "display_name": "Python 3",
   "language": "python",
   "name": "python3"
  },
  "language_info": {
   "codemirror_mode": {
    "name": "ipython",
    "version": 3
   },
   "file_extension": ".py",
   "mimetype": "text/x-python",
   "name": "python",
   "nbconvert_exporter": "python",
   "pygments_lexer": "ipython3",
   "version": "3.6.6"
  }
 },
 "nbformat": 4,
 "nbformat_minor": 2
}
