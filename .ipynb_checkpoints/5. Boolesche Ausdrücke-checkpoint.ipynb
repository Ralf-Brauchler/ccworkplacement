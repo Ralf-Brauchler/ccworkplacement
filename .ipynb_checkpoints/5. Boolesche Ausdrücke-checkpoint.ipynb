{
 "cells": [
  {
   "cell_type": "markdown",
   "metadata": {},
   "source": [
    "# Boolesche Ausdrücke\n",
    "\n",
    "Sowohl die [`if`](https://docs.python.org/3.2/reference/compound_stmts.html#if)-Verzweigung als auch die [`while`](https://docs.python.org/3.2/reference/compound_stmts.html#while)-Schleife benötigen eine Bedingung. Im folgenden Kapitel wollen wir etwas genauer analysieren, wie solche Bedingungen formuliert werden können.\n",
    "\n",
    "Ein boolescher Ausdruck ist ein Ausdruck, der entweder wahr oder falsch ist, in Python [`True`](https://docs.python.org/3.2/library/constants.html#True) und [`False`](https://docs.python.org/3.2/library/constants.html#False) genannt. Dies sind auch gleich die einfachsten booleschen Ausdrücke.\n",
    "\n",
    "**True:**\n",
    "   \n",
    "   Dieser Ausdruck ist immer wahr.\n",
    "   \n",
    "**False:**\n",
    "   \n",
    "   Dieser Ausdruck ist immer falsch.\n",
    "   \n",
    "## Vergleiche\n",
    "\n",
    "Wir können zwei Variablen `var_1` und `var_2` miteinander vergleichen, falls in beiden derselbe Datentyp gespeichert ist. Wenn verschiedene Datentypen gespeichert sind, werden die Werte immer als ungleich betrachtet. Es existieren die folgenden Vergleiche:\n",
    "\n",
    "| Vergleich | Bedeutung |\n",
    "| -------- | -------- |\n",
    "| `var_1 == var_2` | `var_1` gleich `var_2` |"
   ]
  },
  {
   "cell_type": "code",
   "execution_count": 1,
   "metadata": {},
   "outputs": [],
   "source": []
  },
  {
   "cell_type": "code",
   "execution_count": null,
   "metadata": {},
   "outputs": [],
   "source": []
  }
 ],
 "metadata": {
  "kernelspec": {
   "display_name": "Python 3",
   "language": "python",
   "name": "python3"
  },
  "language_info": {
   "codemirror_mode": {
    "name": "ipython",
    "version": 3
   },
   "file_extension": ".py",
   "mimetype": "text/x-python",
   "name": "python",
   "nbconvert_exporter": "python",
   "pygments_lexer": "ipython3",
   "version": "3.6.6"
  }
 },
 "nbformat": 4,
 "nbformat_minor": 2
}
